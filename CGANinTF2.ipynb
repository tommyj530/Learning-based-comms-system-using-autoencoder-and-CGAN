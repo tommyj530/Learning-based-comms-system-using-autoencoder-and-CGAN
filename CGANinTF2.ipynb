{
  "nbformat": 4,
  "nbformat_minor": 0,
  "metadata": {
    "colab": {
      "name": "CGANinTF2.ipynb",
      "provenance": [],
      "collapsed_sections": [],
      "include_colab_link": true
    },
    "kernelspec": {
      "display_name": "Python 3",
      "language": "python",
      "name": "python3"
    }
  },
  "cells": [
    {
      "cell_type": "markdown",
      "metadata": {
        "id": "view-in-github",
        "colab_type": "text"
      },
      "source": [
        "<a href=\"https://colab.research.google.com/github/tommyj530/Learning-based-comms-system-using-autoencoder-and-CGAN/blob/main/CGANinTF2.ipynb\" target=\"_parent\"><img src=\"https://colab.research.google.com/assets/colab-badge.svg\" alt=\"Open In Colab\"/></a>"
      ]
    },
    {
      "cell_type": "markdown",
      "metadata": {
        "id": "p3uWfp8Uf7gl"
      },
      "source": [
        "## Autoencoder Extensions - Enabling Over-the-Air Transmission with GANs"
      ]
    },
    {
      "cell_type": "markdown",
      "metadata": {
        "id": "YIoYASfEf7go"
      },
      "source": [
        "#### Import libraries"
      ]
    },
    {
      "cell_type": "code",
      "metadata": {
        "id": "QiCDuiGqf7gr"
      },
      "source": [
        "import glob\n",
        "import imageio\n",
        "import numpy as np\n",
        "%matplotlib inline\n",
        "import matplotlib.pyplot as plt   \n",
        "import tensorflow as tf\n",
        "from tensorflow import keras\n",
        "from tensorflow.keras import layers\n",
        "import os\n",
        "os.environ[\"CUDA_VISIBLE_DEVICES\"] = \"1\" # Ignore if you do not have multiple GPUs\n",
        "\n",
        "import time \n",
        "from IPython import display"
      ],
      "execution_count": null,
      "outputs": []
    },
    {
      "cell_type": "code",
      "metadata": {
        "colab": {
          "base_uri": "https://localhost:8080/"
        },
        "id": "_IcL6GxKt9aC",
        "outputId": "5e04f2a8-8008-4558-c1ac-93fdabbe9457"
      },
      "source": [
        "print(tf.__version__)"
      ],
      "execution_count": null,
      "outputs": [
        {
          "output_type": "stream",
          "text": [
            "2.4.1\n"
          ],
          "name": "stdout"
        }
      ]
    },
    {
      "cell_type": "markdown",
      "metadata": {
        "id": "mrLsO1Nxf7g3"
      },
      "source": [
        "#### System parameters"
      ]
    },
    {
      "cell_type": "code",
      "metadata": {
        "id": "4eRvwZ5Nf7g6"
      },
      "source": [
        "k = 8       # Number of information bits per message, i.e., M=2**k\n",
        "n = 8      # Number of real channel uses per message"
      ],
      "execution_count": null,
      "outputs": []
    },
    {
      "cell_type": "markdown",
      "metadata": {
        "id": "Of5-j_udO8VU"
      },
      "source": [
        "## Part 1 -  Generative Adversarial networks (GANs)"
      ]
    },
    {
      "cell_type": "markdown",
      "metadata": {
        "id": "hOaKfjRnO8VW"
      },
      "source": [
        "In this part we define and train a GAN to mimik any unknown channel function.\n",
        "\n",
        "The GAN is inspired by:\n",
        "https://wiseodd.github.io/techblog/2016/12/24/conditional-gan-tensorflow/ which also provides further details on GAN training\n"
      ]
    },
    {
      "cell_type": "code",
      "metadata": {
        "id": "c0SDnDIv4SWG"
      },
      "source": [
        "def EbNo2Sigma(ebnodb):\n",
        "    '''Convert Eb/No in dB to noise standard deviation'''\n",
        "    ebno = 10**(ebnodb/10)\n",
        "    return 1/np.sqrt(2*(2*k/n)*ebno)"
      ],
      "execution_count": null,
      "outputs": []
    },
    {
      "cell_type": "code",
      "metadata": {
        "id": "cSTRYURfO8VZ"
      },
      "source": [
        "train_SNR_dB = 6 \n",
        "batch_size = 16\n",
        "noise_std = EbNo2Sigma(train_SNR_dB) # should be able to vary this based on SNR\n",
        "\n",
        "#number of neurons per layer in discriminator and generator\n",
        "G_nb_weights = 32\n",
        "D_nb_weights = 32"
      ],
      "execution_count": null,
      "outputs": []
    },
    {
      "cell_type": "markdown",
      "metadata": {
        "id": "iFd2qgrO9Dp3"
      },
      "source": [
        "### Generator"
      ]
    },
    {
      "cell_type": "code",
      "metadata": {
        "id": "55sUxLVqO8V3",
        "colab": {
          "base_uri": "https://localhost:8080/"
        },
        "outputId": "0f17c240-ca84-441b-abe6-d937d292a942"
      },
      "source": [
        "# Concatenate z and y\n",
        "G_input = tf.keras.Input(shape=(n,), dtype=tf.float32, name='gen_in') \n",
        "G_n = tf.random.normal([tf.shape(G_input)[0],n],dtype=tf.float32)\n",
        "input = tf.concat(values=[G_input, G_n], axis=1)\n",
        "x = tf.keras.layers.Dense(G_nb_weights,activation=\"relu\")(input)\n",
        "#x = tf.keras.layers.Dropout(0.3)(x)\n",
        "x = tf.keras.layers.Dense(G_nb_weights,activation=\"relu\")(x)\n",
        "x = tf.keras.layers.Dense(n,activation=None)(x)\n",
        "G_output = x\n",
        "generator = tf.keras.Model(G_input, G_output, name='generator')\n",
        "generator.summary()"
      ],
      "execution_count": null,
      "outputs": [
        {
          "output_type": "stream",
          "text": [
            "Model: \"generator\"\n",
            "__________________________________________________________________________________________________\n",
            "Layer (type)                    Output Shape         Param #     Connected to                     \n",
            "==================================================================================================\n",
            "gen_in (InputLayer)             [(None, 8)]          0                                            \n",
            "__________________________________________________________________________________________________\n",
            "tf.compat.v1.shape (TFOpLambda) (2,)                 0           gen_in[0][0]                     \n",
            "__________________________________________________________________________________________________\n",
            "tf.__operators__.getitem (Slici ()                   0           tf.compat.v1.shape[0][0]         \n",
            "__________________________________________________________________________________________________\n",
            "tf.random.normal (TFOpLambda)   (None, 8)            0           tf.__operators__.getitem[0][0]   \n",
            "__________________________________________________________________________________________________\n",
            "tf.concat (TFOpLambda)          (None, 16)           0           gen_in[0][0]                     \n",
            "                                                                 tf.random.normal[0][0]           \n",
            "__________________________________________________________________________________________________\n",
            "dense (Dense)                   (None, 32)           544         tf.concat[0][0]                  \n",
            "__________________________________________________________________________________________________\n",
            "dense_1 (Dense)                 (None, 32)           1056        dense[0][0]                      \n",
            "__________________________________________________________________________________________________\n",
            "dense_2 (Dense)                 (None, 8)            264         dense_1[0][0]                    \n",
            "==================================================================================================\n",
            "Total params: 1,864\n",
            "Trainable params: 1,864\n",
            "Non-trainable params: 0\n",
            "__________________________________________________________________________________________________\n"
          ],
          "name": "stdout"
        }
      ]
    },
    {
      "cell_type": "markdown",
      "metadata": {
        "id": "JSMeYh229GUr"
      },
      "source": [
        "### Discriminator\n",
        "*  D(y,x)\n",
        "*   y_fake = generator(x)\n",
        "*   y_real = real_channel(x)\n",
        "\n",
        "In our experiment, we use a stochastic channel model to generate y_real, but in practice, we would be taking measurements of the distorted signals and use them as a conditioning paramter for the GAN."
      ]
    },
    {
      "cell_type": "code",
      "metadata": {
        "id": "U-YK_nDz17L1",
        "colab": {
          "base_uri": "https://localhost:8080/"
        },
        "outputId": "702b5308-9ead-4d92-bc28-eec7a6a0e52a"
      },
      "source": [
        "# Concatenate x and y\n",
        "D_input_y = tf.keras.Input(shape=(n,), dtype=tf.float32, name='D_in_y')\n",
        "D_input_x = tf.keras.Input(shape=(n,), dtype=tf.float32, name='D_in_x')\n",
        "input = tf.concat(values=[D_input_y, D_input_x], axis=1)\n",
        "x = tf.keras.layers.Dense(D_nb_weights,activation=\"relu\")(input)\n",
        "#x = tf.keras.layers.Dropout(0.3)(x)\n",
        "x = tf.keras.layers.Dense(D_nb_weights,activation=None)(x)\n",
        "x = tf.keras.layers.Dense(1,activation=None)(x)\n",
        "x = tf.keras.activations.sigmoid(x)\n",
        "D_output = x\n",
        "discriminator = tf.keras.Model([D_input_y, D_input_x], D_output, name='discriminator')\n",
        "discriminator.summary()"
      ],
      "execution_count": null,
      "outputs": [
        {
          "output_type": "stream",
          "text": [
            "Model: \"discriminator\"\n",
            "__________________________________________________________________________________________________\n",
            "Layer (type)                    Output Shape         Param #     Connected to                     \n",
            "==================================================================================================\n",
            "D_in_y (InputLayer)             [(None, 8)]          0                                            \n",
            "__________________________________________________________________________________________________\n",
            "D_in_x (InputLayer)             [(None, 8)]          0                                            \n",
            "__________________________________________________________________________________________________\n",
            "tf.concat_1 (TFOpLambda)        (None, 16)           0           D_in_y[0][0]                     \n",
            "                                                                 D_in_x[0][0]                     \n",
            "__________________________________________________________________________________________________\n",
            "dense_3 (Dense)                 (None, 32)           544         tf.concat_1[0][0]                \n",
            "__________________________________________________________________________________________________\n",
            "dense_4 (Dense)                 (None, 32)           1056        dense_3[0][0]                    \n",
            "__________________________________________________________________________________________________\n",
            "dense_5 (Dense)                 (None, 1)            33          dense_4[0][0]                    \n",
            "__________________________________________________________________________________________________\n",
            "tf.math.sigmoid (TFOpLambda)    (None, 1)            0           dense_5[0][0]                    \n",
            "==================================================================================================\n",
            "Total params: 1,633\n",
            "Trainable params: 1,633\n",
            "Non-trainable params: 0\n",
            "__________________________________________________________________________________________________\n"
          ],
          "name": "stdout"
        }
      ]
    },
    {
      "cell_type": "code",
      "metadata": {
        "id": "W0PO28Y-2QrS"
      },
      "source": [
        "x = tf.random.normal((batch_size,n))    #randomly sample input data (\"fake\" AE messages)\n",
        "#x = x/tf.sqrt(2*tf.reduce_mean(tf.square(x))) #Average power normalization (not required if standard normal distribution is used )\n",
        "generated_signal = generator(x, training=False)\n",
        "decision = discriminator([generated_signal,x])\n",
        "#print(decision)"
      ],
      "execution_count": null,
      "outputs": []
    },
    {
      "cell_type": "code",
      "metadata": {
        "id": "8125XwBDJjTT"
      },
      "source": [
        "def real_channel(x):\n",
        "    # Black-box Channel\n",
        "    #AWGN\n",
        "    return x + tf.random.normal(tf.shape(x), mean=0.0, stddev=noise_std)\n",
        "\n",
        "    #Rayleigh\n",
        "    #return x + tf.sqrt(tf.square(tf.random.normal(tf.shape(x), mean=0.0, stddev=noise_std)) + tf.square(tf.random.normal(tf.shape(x), mean=0.0, stddev=noise_std)))\n",
        "    \n",
        "    #Uniform U(-3;3)    \n",
        "    #return x + tf.random.uniform(tf.shape(x), minval=-2, maxval=2)"
      ],
      "execution_count": null,
      "outputs": []
    },
    {
      "cell_type": "code",
      "metadata": {
        "id": "7ovo_iDtOWch"
      },
      "source": [
        "# This method returns a helper function to compute cross entropy loss\n",
        "cross_entropy = tf.keras.losses.BinaryCrossentropy(from_logits=True)"
      ],
      "execution_count": null,
      "outputs": []
    },
    {
      "cell_type": "code",
      "metadata": {
        "id": "ABYOCAk5OXJk"
      },
      "source": [
        "def discriminator_loss(real_output, fake_output):\n",
        "    total_loss = -tf.reduce_mean(tf.math.log(real_output) + tf.math.log(1. - fake_output))\n",
        "    # real_loss = cross_entropy(tf.ones_like(real_output), real_output)\n",
        "    # fake_loss = cross_entropy(tf.zeros_like(fake_output), fake_output)\n",
        "    # total_loss = real_loss + fake_loss\n",
        "    return total_loss\n",
        "\n",
        "#     D_loss = -tf.reduce_mean(tf.log(D_real) + tf.log(1. - D_fake))   #use \"-\" sign to minimize rather than maximize loss\n",
        "#     G_loss = -tf.reduce_mean(tf.log(D_fake))"
      ],
      "execution_count": null,
      "outputs": []
    },
    {
      "cell_type": "code",
      "metadata": {
        "id": "3Gbt0DxvOZ2G"
      },
      "source": [
        "def generator_loss(fake_output):\n",
        "    return  -tf.reduce_mean(tf.math.log(fake_output))"
      ],
      "execution_count": null,
      "outputs": []
    },
    {
      "cell_type": "code",
      "metadata": {
        "id": "Fp7DJg4faDAW"
      },
      "source": [
        "generator_optimizer = tf.keras.optimizers.RMSprop(1e-4)\n",
        "discriminator_optimizer = tf.keras.optimizers.RMSprop(1e-4)"
      ],
      "execution_count": null,
      "outputs": []
    },
    {
      "cell_type": "code",
      "metadata": {
        "id": "pJOLPBvJOcLW"
      },
      "source": [
        "EPOCHS = 20\n",
        "noise_dim = n "
      ],
      "execution_count": null,
      "outputs": []
    },
    {
      "cell_type": "code",
      "metadata": {
        "id": "Nk4hRIY3Oe5O"
      },
      "source": [
        "# Notice the use of `tf.function`\n",
        "# This annotation causes the function to be \"compiled\".\n",
        "@tf.function\n",
        "def train_step():\n",
        "  rv_simple = tf.random.normal([batch_size, noise_dim])\n",
        "  #rv_simple = x/tf.sqrt(2*tf.reduce_mean(tf.square(rv_simple)))\n",
        "\n",
        "  with tf.GradientTape() as gen_tape, tf.GradientTape() as disc_tape:\n",
        "    y_fake = generator(rv_simple, training=True)\n",
        "    y_real = real_channel(rv_simple)\n",
        "\n",
        "    real_output = discriminator([y_real,rv_simple], training=True)\n",
        "    fake_output = discriminator([y_fake,rv_simple], training=True)\n",
        "\n",
        "    gen_loss = generator_loss(fake_output)\n",
        "    disc_loss = discriminator_loss(real_output, fake_output)\n",
        "\n",
        "  gradients_of_generator = gen_tape.gradient(gen_loss, generator.trainable_variables)\n",
        "  gradients_of_discriminator = disc_tape.gradient(disc_loss, discriminator.trainable_variables)\n",
        "\n",
        "  generator_optimizer.apply_gradients(zip(gradients_of_generator, generator.trainable_variables))\n",
        "  discriminator_optimizer.apply_gradients(zip(gradients_of_discriminator, discriminator.trainable_variables))\n",
        "\n",
        "  return gen_loss, disc_loss"
      ],
      "execution_count": null,
      "outputs": []
    },
    {
      "cell_type": "markdown",
      "metadata": {
        "id": "rbdiG8800GbP"
      },
      "source": [
        "Test test_step():"
      ]
    },
    {
      "cell_type": "code",
      "metadata": {
        "id": "nOmopW4De-kI"
      },
      "source": [
        "def test_step():\n",
        "  #parameters\n",
        "  hist_range = 3\n",
        "  for i in range(1000):\n",
        "    hist_range = 3\n",
        "    rv_simple = tf.random.normal([batch_size, noise_dim])\n",
        "    if i == 0:\n",
        "      y_fake = np.array(generator(rv_simple))\n",
        "      y_fake = y_fake.squeeze().tolist()\n",
        "      y_real = np.array(real_channel(rv_simple))\n",
        "      y_real = y_real.squeeze().tolist()\n",
        "    else:\n",
        "      temp = np.array(generator(rv_simple))\n",
        "      temp = temp.squeeze().tolist()\n",
        "      y_fake = np.append(y_fake,temp)\n",
        "      temp = np.array(real_channel(rv_simple))\n",
        "      temp = temp.squeeze().tolist()\n",
        "      y_real = np.append(y_real,temp)\n",
        "\n",
        "  #and plot results  \n",
        "  plt.hist(y_fake,bins=100,range=(-hist_range,hist_range),density=True,histtype='step')   \n",
        "  plt.hist(y_real,bins=100,range=(-hist_range,hist_range),density=True,histtype='step') \n",
        "  plt.title(\"channel distribution\")\n",
        "  plt.legend([\"generator\", \"target\"])\n",
        "  plt.show()\n"
      ],
      "execution_count": null,
      "outputs": []
    },
    {
      "cell_type": "code",
      "metadata": {
        "id": "KkGpNbBfZ3JS"
      },
      "source": [
        "checkpoint_dir = 'Desktop/'\n",
        "checkpoint_prefix = os.path.join(checkpoint_dir, \"ckpt\")\n",
        "checkpoint = tf.train.Checkpoint(generator_optimizer=generator_optimizer,\n",
        "                                 discriminator_optimizer=discriminator_optimizer,\n",
        "                                 generator=generator,\n",
        "                                 discriminator=discriminator)"
      ],
      "execution_count": null,
      "outputs": []
    },
    {
      "cell_type": "code",
      "metadata": {
        "id": "mEA_GlJyOgSW",
        "colab": {
          "base_uri": "https://localhost:8080/",
          "height": 35
        },
        "outputId": "3a964c13-f026-4bc0-b448-81ebe37bb19e"
      },
      "source": [
        "def train(epochs):\n",
        "  gen_loss_prior = 0\n",
        "  count = 0\n",
        "  for epoch in range(epochs):\n",
        "    start = time.time()\n",
        "    for i in range(1000):\n",
        "      gen_loss, disc_loss = train_step()\n",
        "    \n",
        "    if epoch%2==0:\n",
        "      test_step()\n",
        "\n",
        "    print ('Time for epoch {} is {} sec'.format(epoch + 1, time.time()-start))\n",
        "    print('G Loss is {} and D loss is {}'.format(gen_loss, disc_loss))\n",
        "    print('-----------------------------------------------------------------')\n",
        "\n",
        "    if abs(gen_loss-gen_loss_prior)<0.01:\n",
        "      count = count + 1\n",
        "    gen_loss_prior = gen_loss\n",
        "\n",
        "    if count == 3: \n",
        "      print ('Early stoppage at epoch {}'.format(epoch))\n",
        "      break\n",
        "# Save the model at the end\n",
        "checkpoint.save('Desktop/checkpoint')\n",
        "# generator.save_weights('Desktop/checkpt/gen_weights')\n",
        "# discriminator.save_weights('Desktop/checkpt/dis_weights')"
      ],
      "execution_count": null,
      "outputs": [
        {
          "output_type": "execute_result",
          "data": {
            "application/vnd.google.colaboratory.intrinsic+json": {
              "type": "string"
            },
            "text/plain": [
              "'Desktop/checkpoint-1'"
            ]
          },
          "metadata": {
            "tags": []
          },
          "execution_count": 18
        }
      ]
    },
    {
      "cell_type": "code",
      "metadata": {
        "id": "lTsQSZu4Osvh",
        "colab": {
          "base_uri": "https://localhost:8080/",
          "height": 1000
        },
        "outputId": "b7a97657-8166-4b71-c869-f0c68372e64f"
      },
      "source": [
        "train(EPOCHS)"
      ],
      "execution_count": null,
      "outputs": [
        {
          "output_type": "display_data",
          "data": {
            "image/png": "[encoded data removed]",
            "text/plain": [
              "<Figure size 432x288 with 1 Axes>"
            ]
          },
          "metadata": {
            "tags": [],
            "needs_background": "light"
          }
        },
        {
          "output_type": "stream",
          "text": [
            "Time for epoch 1 is 4.515899181365967 sec\n",
            "G Loss is 0.9838271737098694 and D loss is 0.916662335395813\n",
            "-----------------------------------------------------------------\n",
            "Time for epoch 2 is 0.6921494007110596 sec\n",
            "G Loss is 1.145039677619934 and D loss is 1.0270960330963135\n",
            "-----------------------------------------------------------------\n"
          ],
          "name": "stdout"
        },
        {
          "output_type": "display_data",
          "data": {
            "image/png": "[encoded data removed]",
            "text/plain": [
              "<Figure size 432x288 with 1 Axes>"
            ]
          },
          "metadata": {
            "tags": [],
            "needs_background": "light"
          }
        },
        {
          "output_type": "stream",
          "text": [
            "Time for epoch 3 is 3.4276046752929688 sec\n",
            "G Loss is 1.4244701862335205 and D loss is 0.7909141182899475\n",
            "-----------------------------------------------------------------\n",
            "Time for epoch 4 is 0.6865460872650146 sec\n",
            "G Loss is 1.0611540079116821 and D loss is 1.1703888177871704\n",
            "-----------------------------------------------------------------\n"
          ],
          "name": "stdout"
        },
        {
          "output_type": "display_data",
          "data": {
            "image/png": "[encoded data removed]",
            "text/plain": [
              "<Figure size 432x288 with 1 Axes>"
            ]
          },
          "metadata": {
            "tags": [],
            "needs_background": "light"
          }
        },
        {
          "output_type": "stream",
          "text": [
            "Time for epoch 5 is 3.5391793251037598 sec\n",
            "G Loss is 1.1295453310012817 and D loss is 1.2004374265670776\n",
            "-----------------------------------------------------------------\n",
            "Time for epoch 6 is 0.6790602207183838 sec\n",
            "G Loss is 1.0427366495132446 and D loss is 1.1561853885650635\n",
            "-----------------------------------------------------------------\n"
          ],
          "name": "stdout"
        },
        {
          "output_type": "display_data",
          "data": {
            "image/png": "[encoded data removed]",
            "text/plain": [
              "<Figure size 432x288 with 1 Axes>"
            ]
          },
          "metadata": {
            "tags": [],
            "needs_background": "light"
          }
        },
        {
          "output_type": "stream",
          "text": [
            "Time for epoch 7 is 3.380979061126709 sec\n",
            "G Loss is 0.9156176447868347 and D loss is 1.3475316762924194\n",
            "-----------------------------------------------------------------\n",
            "Time for epoch 8 is 0.6695132255554199 sec\n",
            "G Loss is 0.8790110349655151 and D loss is 1.3679378032684326\n",
            "-----------------------------------------------------------------\n"
          ],
          "name": "stdout"
        },
        {
          "output_type": "display_data",
          "data": {
            "image/png": "[encoded data removed]",
            "text/plain": [
              "<Figure size 432x288 with 1 Axes>"
            ]
          },
          "metadata": {
            "tags": [],
            "needs_background": "light"
          }
        },
        {
          "output_type": "stream",
          "text": [
            "Time for epoch 9 is 3.4386463165283203 sec\n",
            "G Loss is 0.6816417574882507 and D loss is 1.4182976484298706\n",
            "-----------------------------------------------------------------\n",
            "Time for epoch 10 is 0.6651427745819092 sec\n",
            "G Loss is 0.694427490234375 and D loss is 1.4426263570785522\n",
            "-----------------------------------------------------------------\n"
          ],
          "name": "stdout"
        },
        {
          "output_type": "display_data",
          "data": {
            "image/png": "[encoded data removed]",
            "text/plain": [
              "<Figure size 432x288 with 1 Axes>"
            ]
          },
          "metadata": {
            "tags": [],
            "needs_background": "light"
          }
        },
        {
          "output_type": "stream",
          "text": [
            "Time for epoch 11 is 3.4021358489990234 sec\n",
            "G Loss is 0.6608631610870361 and D loss is 1.4853160381317139\n",
            "-----------------------------------------------------------------\n",
            "Time for epoch 12 is 0.6772878170013428 sec\n",
            "G Loss is 0.6648164987564087 and D loss is 1.4528701305389404\n",
            "-----------------------------------------------------------------\n"
          ],
          "name": "stdout"
        }
      ]
    },
    {
      "cell_type": "code",
      "metadata": {
        "id": "IeIujZvBZ46x"
      },
      "source": [
        "checkpoint.restore(tf.train.latest_checkpoint(checkpoint_dir))"
      ],
      "execution_count": null,
      "outputs": []
    }
  ]
}