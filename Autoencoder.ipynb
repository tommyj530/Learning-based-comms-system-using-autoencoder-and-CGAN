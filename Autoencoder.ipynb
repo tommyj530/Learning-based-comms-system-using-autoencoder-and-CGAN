{
  "nbformat": 4,
  "nbformat_minor": 0,
  "metadata": {
    "colab": {
      "name": "Autoencoder.ipynb",
      "provenance": [],
      "collapsed_sections": [],
      "include_colab_link": true
    },
    "kernelspec": {
      "display_name": "Python 3",
      "language": "python",
      "name": "python3"
    },
    "language_info": {
      "codemirror_mode": {
        "name": "ipython",
        "version": 3
      },
      "file_extension": ".py",
      "mimetype": "text/x-python",
      "name": "python",
      "nbconvert_exporter": "python",
      "pygments_lexer": "ipython3",
      "version": "3.6.9"
    }
  },
  "cells": [
    {
      "cell_type": "markdown",
      "metadata": {
        "id": "view-in-github",
        "colab_type": "text"
      },
      "source": [
        "<a href=\"https://colab.research.google.com/github/tommyj530/Learning-based-comms-system-using-autoencoder-and-CGAN/blob/main/Autoencoder.ipynb\" target=\"_parent\"><img src=\"https://colab.research.google.com/assets/colab-badge.svg\" alt=\"Open In Colab\"/></a>"
      ]
    },
    {
      "cell_type": "markdown",
      "metadata": {
        "id": "9De16NQbb7a7"
      },
      "source": [
        "# Autoencoder-Based End-to-End Communications System\n",
        "ELEC825 Machine Learning and Deep Learning @ Queen's University Kingston, ON"
      ]
    },
    {
      "cell_type": "markdown",
      "metadata": {
        "id": "XT4Ug5eKfK9c"
      },
      "source": [
        "## Training a bit-wise end-to-end communications system over the AWGN channel\n",
        "We can train over Rayleigh or Rician if more appropriate "
      ]
    },
    {
      "cell_type": "markdown",
      "metadata": {
        "id": "PrKN5drDB-CR"
      },
      "source": [
        "#### Import libraries"
      ]
    },
    {
      "cell_type": "code",
      "metadata": {
        "id": "gjiJLodpB8tF"
      },
      "source": [
        "import glob\n",
        "import imageio\n",
        "import numpy as np\n",
        "%matplotlib inline\n",
        "import matplotlib.pyplot as plt   \n",
        "import tensorflow as tf\n",
        "from tensorflow import keras\n",
        "from tensorflow.keras import layers\n",
        "import os\n",
        "os.environ[\"CUDA_VISIBLE_DEVICES\"] = \"1\" # Ignore if you do not have multiple GPUs\n",
        "\n",
        "import time \n",
        "from IPython import display"
      ],
      "execution_count": null,
      "outputs": []
    },
    {
      "cell_type": "code",
      "metadata": {
        "colab": {
          "base_uri": "https://localhost:8080/"
        },
        "id": "QlmYYC3LCEXW",
        "outputId": "775788e4-6212-4292-8cbb-9fc4d0ba8a4c"
      },
      "source": [
        "print(tf.__version__)"
      ],
      "execution_count": null,
      "outputs": [
        {
          "output_type": "stream",
          "text": [
            "2.3.1\n"
          ],
          "name": "stdout"
        }
      ]
    },
    {
      "cell_type": "markdown",
      "metadata": {
        "id": "VOQ0rguifh2i"
      },
      "source": [
        "#### Autoencoder parameters"
      ]
    },
    {
      "cell_type": "code",
      "metadata": {
        "id": "oLPa-jQibzdk"
      },
      "source": [
        "k = 4                               # bit per autoencoder message\n",
        "M = 2**k                            # total nb of autoencoder messages\n",
        "n = 2                               # number of real-valued channel uses"
      ],
      "execution_count": null,
      "outputs": []
    },
    {
      "cell_type": "markdown",
      "metadata": {
        "id": "Zgtf4lNUfyay"
      },
      "source": [
        "## The Encoder / Transmitter"
      ]
    },
    {
      "cell_type": "code",
      "metadata": {
        "id": "zq8SdgY8bzdy",
        "colab": {
          "base_uri": "https://localhost:8080/"
        },
        "outputId": "134bb712-4a26-48cc-ce94-63f726b7dfaa"
      },
      "source": [
        "encoder_input = tf.keras.Input(shape=(), dtype=tf.int32, name='enc_in')\n",
        "one_hot = tf.one_hot(encoder_input,depth=M)\n",
        "x = tf.keras.layers.Dense(128,activation=\"relu\")(one_hot)\n",
        "x = tf.keras.layers.Dense(128,activation=\"relu\")(x)\n",
        "x = tf.keras.layers.Dense(n,activation=None)(x)\n",
        "encoder_output = x / tf.sqrt(tf.reduce_mean(tf.square(x)))    # batch normalization to limit average signal power to 1.0 (per complex channel use)\n",
        "encoder = tf.keras.Model(encoder_input, encoder_output, name='encoder')\n",
        "encoder.summary()"
      ],
      "execution_count": null,
      "outputs": [
        {
          "output_type": "stream",
          "text": [
            "Model: \"encoder\"\n",
            "__________________________________________________________________________________________________\n",
            "Layer (type)                    Output Shape         Param #     Connected to                     \n",
            "==================================================================================================\n",
            "enc_in (InputLayer)             [(None,)]            0                                            \n",
            "__________________________________________________________________________________________________\n",
            "tf_op_layer_OneHot (TensorFlowO [(None, 16)]         0           enc_in[0][0]                     \n",
            "__________________________________________________________________________________________________\n",
            "dense (Dense)                   (None, 128)          2176        tf_op_layer_OneHot[0][0]         \n",
            "__________________________________________________________________________________________________\n",
            "dense_1 (Dense)                 (None, 128)          16512       dense[0][0]                      \n",
            "__________________________________________________________________________________________________\n",
            "dense_2 (Dense)                 (None, 2)            258         dense_1[0][0]                    \n",
            "__________________________________________________________________________________________________\n",
            "tf_op_layer_Square (TensorFlowO [(None, 2)]          0           dense_2[0][0]                    \n",
            "__________________________________________________________________________________________________\n",
            "tf_op_layer_Mean (TensorFlowOpL [()]                 0           tf_op_layer_Square[0][0]         \n",
            "__________________________________________________________________________________________________\n",
            "tf_op_layer_Sqrt (TensorFlowOpL [()]                 0           tf_op_layer_Mean[0][0]           \n",
            "__________________________________________________________________________________________________\n",
            "tf_op_layer_RealDiv (TensorFlow [(None, 2)]          0           dense_2[0][0]                    \n",
            "                                                                 tf_op_layer_Sqrt[0][0]           \n",
            "==================================================================================================\n",
            "Total params: 18,946\n",
            "Trainable params: 18,946\n",
            "Non-trainable params: 0\n",
            "__________________________________________________________________________________________________\n"
          ],
          "name": "stdout"
        }
      ]
    },
    {
      "cell_type": "markdown",
      "metadata": {
        "id": "gznssoPoZZ8k"
      },
      "source": [
        "Data Visualization"
      ]
    },
    {
      "cell_type": "code",
      "metadata": {
        "id": "yj7YkVpSIqiI"
      },
      "source": [
        ""
      ],
      "execution_count": null,
      "outputs": []
    },
    {
      "cell_type": "code",
      "metadata": {
        "id": "IyhWyeJKYyi0",
        "colab": {
          "base_uri": "https://localhost:8080/"
        },
        "outputId": "e3f3cc69-aba9-493e-ac9b-01fc82371557"
      },
      "source": [
        "np.arange(M,dtype=np.int32)"
      ],
      "execution_count": null,
      "outputs": [
        {
          "output_type": "execute_result",
          "data": {
            "text/plain": [
              "array([ 0,  1,  2,  3,  4,  5,  6,  7,  8,  9, 10, 11, 12, 13, 14, 15],\n",
              "      dtype=int32)"
            ]
          },
          "metadata": {
            "tags": []
          },
          "execution_count": 5
        }
      ]
    },
    {
      "cell_type": "markdown",
      "metadata": {
        "id": "HI_zk3BesKhT"
      },
      "source": [
        "One-hot vector represetnation"
      ]
    },
    {
      "cell_type": "code",
      "metadata": {
        "id": "ltoAgnjlYeDX",
        "colab": {
          "base_uri": "https://localhost:8080/"
        },
        "outputId": "6da319ca-2abd-4f81-df67-adf60d1e942d"
      },
      "source": [
        "print(tf.one_hot(np.arange(M,dtype=np.int32),  16))"
      ],
      "execution_count": null,
      "outputs": [
        {
          "output_type": "stream",
          "text": [
            "tf.Tensor(\n",
            "[[1. 0. 0. 0. 0. 0. 0. 0. 0. 0. 0. 0. 0. 0. 0. 0.]\n",
            " [0. 1. 0. 0. 0. 0. 0. 0. 0. 0. 0. 0. 0. 0. 0. 0.]\n",
            " [0. 0. 1. 0. 0. 0. 0. 0. 0. 0. 0. 0. 0. 0. 0. 0.]\n",
            " [0. 0. 0. 1. 0. 0. 0. 0. 0. 0. 0. 0. 0. 0. 0. 0.]\n",
            " [0. 0. 0. 0. 1. 0. 0. 0. 0. 0. 0. 0. 0. 0. 0. 0.]\n",
            " [0. 0. 0. 0. 0. 1. 0. 0. 0. 0. 0. 0. 0. 0. 0. 0.]\n",
            " [0. 0. 0. 0. 0. 0. 1. 0. 0. 0. 0. 0. 0. 0. 0. 0.]\n",
            " [0. 0. 0. 0. 0. 0. 0. 1. 0. 0. 0. 0. 0. 0. 0. 0.]\n",
            " [0. 0. 0. 0. 0. 0. 0. 0. 1. 0. 0. 0. 0. 0. 0. 0.]\n",
            " [0. 0. 0. 0. 0. 0. 0. 0. 0. 1. 0. 0. 0. 0. 0. 0.]\n",
            " [0. 0. 0. 0. 0. 0. 0. 0. 0. 0. 1. 0. 0. 0. 0. 0.]\n",
            " [0. 0. 0. 0. 0. 0. 0. 0. 0. 0. 0. 1. 0. 0. 0. 0.]\n",
            " [0. 0. 0. 0. 0. 0. 0. 0. 0. 0. 0. 0. 1. 0. 0. 0.]\n",
            " [0. 0. 0. 0. 0. 0. 0. 0. 0. 0. 0. 0. 0. 1. 0. 0.]\n",
            " [0. 0. 0. 0. 0. 0. 0. 0. 0. 0. 0. 0. 0. 0. 1. 0.]\n",
            " [0. 0. 0. 0. 0. 0. 0. 0. 0. 0. 0. 0. 0. 0. 0. 1.]], shape=(16, 16), dtype=float32)\n"
          ],
          "name": "stdout"
        }
      ]
    },
    {
      "cell_type": "markdown",
      "metadata": {
        "id": "owMroOhagZm1"
      },
      "source": [
        "#### Test the transmitter\n",
        "Generate signals for a batch of all possible M messages and have a look at the encoded signals"
      ]
    },
    {
      "cell_type": "code",
      "metadata": {
        "id": "vVADW3x9bzd7",
        "colab": {
          "base_uri": "https://localhost:8080/"
        },
        "outputId": "e56a6998-a8ae-460b-87cc-1836d51c3f42"
      },
      "source": [
        "x = encoder(np.arange(M,dtype=np.int32)).numpy()\n",
        "print(x)\n",
        "print(x.shape)"
      ],
      "execution_count": null,
      "outputs": [
        {
          "output_type": "stream",
          "text": [
            "[[-0.5450809  -0.20776744]\n",
            " [-0.760642    0.17213891]\n",
            " [ 0.01583982  0.03106067]\n",
            " [-0.89933646 -0.08911037]\n",
            " [-1.1291891   0.76433265]\n",
            " [-1.7925088   1.0413537 ]\n",
            " [-0.56150365  0.6861245 ]\n",
            " [-2.4430273   0.30941683]\n",
            " [-0.02572816  0.0341364 ]\n",
            " [-2.3855467   0.7252408 ]\n",
            " [ 0.2866711   0.21592411]\n",
            " [-1.4030954  -0.4212958 ]\n",
            " [-2.1444292   0.19223277]\n",
            " [-0.00765335 -0.17435527]\n",
            " [-1.2445779  -0.42769477]\n",
            " [-1.4297171   0.53945774]]\n",
            "(16, 2)\n"
          ],
          "name": "stdout"
        }
      ]
    },
    {
      "cell_type": "markdown",
      "metadata": {
        "id": "1r7vnGNygxzH"
      },
      "source": [
        "#### Complex-valued constellation diagrams\n",
        "\n",
        "The constellation our AE uses. The constellation is optimized to reduce the performance metric (BER) during training."
      ]
    },
    {
      "cell_type": "code",
      "metadata": {
        "id": "hwpD_dcoc2ck"
      },
      "source": [
        "def plot_constellation(maxrange=None, show_labels=False):\n",
        "    '''Generate a plot of the current constellation'''\n",
        "    x = encoder(np.arange(M,dtype=np.int32)).numpy()\n",
        "    x = np.reshape(x,[M,int(n/2),2])\n",
        "    if (maxrange is None):\n",
        "        maxrange = np.max(np.abs(x))\n",
        "    for k in range(int(n/2)):\n",
        "        image = plt.figure(figsize=(6,6))\n",
        "        plt.grid(True)\n",
        "        plt.xlim(-maxrange,maxrange)\n",
        "        plt.ylim(-maxrange,maxrange)\n",
        "        for i in range(M):       \n",
        "            plt.scatter(x[i,k,0],x[i,k,1],c=\"black\",marker='x')\n",
        "            if show_labels:\n",
        "                plt.annotate(str(L[i].numpy()),(x[i,k,0],x[i,k,1]),c=\"gray\",ha='center',xytext=(0, 5),textcoords='offset points')\n",
        "        image.axes[0].set_xticks(np.array([-2,-1,0,1,2]))\n",
        "        image.axes[0].set_yticks(np.array([-2,-1,0,1,2]))\n",
        "        image.suptitle('%d. complex symbol' % (k+1))\n",
        "        plt.xlabel('Re')\n",
        "        plt.ylabel('Im')\n",
        "    return x, image"
      ],
      "execution_count": null,
      "outputs": []
    },
    {
      "cell_type": "markdown",
      "metadata": {
        "id": "uMVRLZdossEn"
      },
      "source": [
        "This is what the AE constellation looks like before training. Based on communication theory, we know that maximizing the Euclidean distance in addition to using Gray code between any two neightbouring constellation points reduces the probability of making an error."
      ]
    },
    {
      "cell_type": "code",
      "metadata": {
        "id": "8HGof-49cdgH",
        "colab": {
          "base_uri": "https://localhost:8080/",
          "height": 431
        },
        "outputId": "879856fe-68a3-48e6-aefb-b3c56ed0da4f"
      },
      "source": [
        "plot_constellation();"
      ],
      "execution_count": null,
      "outputs": [
        {
          "output_type": "display_data",
          "data": {
            "text/plain": [
              "<Figure size 432x432 with 1 Axes>"
            ],
            "image/png": "[encoded data removed]"
          },
          "metadata": {
            "tags": [],
            "needs_background": "light"
          }
        }
      ]
    },
    {
      "cell_type": "markdown",
      "metadata": {
        "id": "fbwh7bAGheq-"
      },
      "source": [
        "#### Bit-Labeling for each AE message\n",
        "Label each of the M messages with a sequence of k bit (groud-truth labels)"
      ]
    },
    {
      "cell_type": "code",
      "metadata": {
        "id": "bWCWudelceZi",
        "colab": {
          "base_uri": "https://localhost:8080/"
        },
        "outputId": "8787a9bf-32f1-4761-8f49-ad2bcae055f2"
      },
      "source": [
        "np.binary_repr(3, width = k)[1]"
      ],
      "execution_count": null,
      "outputs": [
        {
          "output_type": "execute_result",
          "data": {
            "text/plain": [
              "'0'"
            ]
          },
          "metadata": {
            "tags": []
          },
          "execution_count": 10
        }
      ]
    },
    {
      "cell_type": "code",
      "metadata": {
        "id": "DT88nuUmbzeK",
        "colab": {
          "base_uri": "https://localhost:8080/"
        },
        "outputId": "fcb0bc8a-b9d9-4a54-afab-c833a6e5eaff"
      },
      "source": [
        "def get_bit_label_natural(k):\n",
        "    M=2**k\n",
        "    label_natural = np.zeros((M,k))\n",
        "\n",
        "    for j in range(M):\n",
        "        for i in range(k):\n",
        "            label_natural[j,i] = np.binary_repr(j, width = k)[i]\n",
        "    return label_natural\n",
        "\n",
        "L = tf.cast(get_bit_label_natural(k),dtype=tf.int8)\n",
        "print(L.numpy())"
      ],
      "execution_count": null,
      "outputs": [
        {
          "output_type": "stream",
          "text": [
            "[[0 0 0 0]\n",
            " [0 0 0 1]\n",
            " [0 0 1 0]\n",
            " [0 0 1 1]\n",
            " [0 1 0 0]\n",
            " [0 1 0 1]\n",
            " [0 1 1 0]\n",
            " [0 1 1 1]\n",
            " [1 0 0 0]\n",
            " [1 0 0 1]\n",
            " [1 0 1 0]\n",
            " [1 0 1 1]\n",
            " [1 1 0 0]\n",
            " [1 1 0 1]\n",
            " [1 1 1 0]\n",
            " [1 1 1 1]]\n"
          ],
          "name": "stdout"
        }
      ]
    },
    {
      "cell_type": "markdown",
      "metadata": {
        "id": "cQYOeLFGis5S"
      },
      "source": [
        "Initial constellation with labels"
      ]
    },
    {
      "cell_type": "code",
      "metadata": {
        "id": "hzlbs5cobzeV",
        "colab": {
          "base_uri": "https://localhost:8080/",
          "height": 431
        },
        "outputId": "d5abdd91-29da-471f-9dd2-17d6f53367d0"
      },
      "source": [
        "plot_constellation(show_labels=True);"
      ],
      "execution_count": null,
      "outputs": [
        {
          "output_type": "display_data",
          "data": {
            "text/plain": [
              "<Figure size 432x432 with 1 Axes>"
            ],
            "image/png": "[encoded data removed]"
          },
          "metadata": {
            "tags": [],
            "needs_background": "light"
          }
        }
      ]
    },
    {
      "cell_type": "markdown",
      "metadata": {
        "id": "n3ir5x15i_HJ"
      },
      "source": [
        "# The AWGN Channel \n",
        "We can replace this with other stochastic channel models e.g. Rayleigh and Rician if needed. In the second part of this project, we will train a GAN and use it as a surrogate for the real channel."
      ]
    },
    {
      "cell_type": "code",
      "metadata": {
        "id": "GxIcpX_IbzeB"
      },
      "source": [
        "def ebnodb_2_noisestd(awgn_ebno_db):\n",
        "    return  1.0 / tf.sqrt(k/n * 2 * 10**(awgn_ebno_db/10.))  # noise variance per complex-valued component\n",
        "\n",
        "def awgn_channel(x,awgn_ebno_db):\n",
        "    noise_std = ebnodb_2_noisestd(awgn_ebno_db)\n",
        "    return x + tf.random.normal(shape=tf.shape(x)) * tf.cast(noise_std,dtype=tf.float32)"
      ],
      "execution_count": null,
      "outputs": []
    },
    {
      "cell_type": "markdown",
      "metadata": {
        "id": "IUtnCF09jcpo"
      },
      "source": [
        "# The Decoder / Receiver"
      ]
    },
    {
      "cell_type": "code",
      "metadata": {
        "id": "9a2V-S-3bzeG",
        "colab": {
          "base_uri": "https://localhost:8080/"
        },
        "outputId": "1ebb99f3-7092-4bf3-be44-2254aef94638"
      },
      "source": [
        "decoder_input = tf.keras.Input(shape=(n), name='dec_in')\n",
        "x = tf.keras.layers.Dense(128,activation=\"relu\")(decoder_input)\n",
        "x = tf.keras.layers.Dense(128,activation=\"relu\")(x)\n",
        "decoder_output = tf.keras.layers.Dense(k,activation=None)(x)\n",
        "decoder = tf.keras.Model(decoder_input, decoder_output, name='decoder')\n",
        "decoder.summary()"
      ],
      "execution_count": null,
      "outputs": [
        {
          "output_type": "stream",
          "text": [
            "Model: \"decoder\"\n",
            "_________________________________________________________________\n",
            "Layer (type)                 Output Shape              Param #   \n",
            "=================================================================\n",
            "dec_in (InputLayer)          [(None, 2)]               0         \n",
            "_________________________________________________________________\n",
            "dense_3 (Dense)              (None, 128)               384       \n",
            "_________________________________________________________________\n",
            "dense_4 (Dense)              (None, 128)               16512     \n",
            "_________________________________________________________________\n",
            "dense_5 (Dense)              (None, 4)                 516       \n",
            "=================================================================\n",
            "Total params: 17,412\n",
            "Trainable params: 17,412\n",
            "Non-trainable params: 0\n",
            "_________________________________________________________________\n"
          ],
          "name": "stdout"
        }
      ]
    },
    {
      "cell_type": "markdown",
      "metadata": {
        "id": "xbZwiOPOjoi4"
      },
      "source": [
        "# Training"
      ]
    },
    {
      "cell_type": "markdown",
      "metadata": {
        "id": "cm1bq5xK1XKS"
      },
      "source": [
        "**Things to implement**\n",
        "*   Training vs Validation Loss/Accuracy Graph\n",
        "*   Early Stopping\n",
        "*   Training with low EbNo vs high EbNo\n",
        "*   Training with long sequences \n"
      ]
    },
    {
      "cell_type": "code",
      "metadata": {
        "id": "cbT5vPMVbzeb"
      },
      "source": [
        "optimizer = tf.keras.optimizers.Adam(learning_rate=0.001)"
      ],
      "execution_count": null,
      "outputs": []
    },
    {
      "cell_type": "code",
      "metadata": {
        "id": "7pB7casUiDAb",
        "colab": {
          "base_uri": "https://localhost:8080/"
        },
        "outputId": "1bd90628-a8f8-47e5-83c6-2f986104bfc3"
      },
      "source": [
        "batch_size = 16\n",
        "s = tf.random.uniform(shape=(batch_size,),minval=0,maxval=M,dtype=tf.int32)\n",
        "print(L)\n",
        "print(s)\n",
        "print(tf.gather(L,s))"
      ],
      "execution_count": null,
      "outputs": [
        {
          "output_type": "stream",
          "text": [
            "tf.Tensor(\n",
            "[[0 0 0 0]\n",
            " [0 0 0 1]\n",
            " [0 0 1 0]\n",
            " [0 0 1 1]\n",
            " [0 1 0 0]\n",
            " [0 1 0 1]\n",
            " [0 1 1 0]\n",
            " [0 1 1 1]\n",
            " [1 0 0 0]\n",
            " [1 0 0 1]\n",
            " [1 0 1 0]\n",
            " [1 0 1 1]\n",
            " [1 1 0 0]\n",
            " [1 1 0 1]\n",
            " [1 1 1 0]\n",
            " [1 1 1 1]], shape=(16, 4), dtype=int8)\n",
            "tf.Tensor([ 6  2  8 11 13  0  0  8  7  5  5  4  5 15  0  5], shape=(16,), dtype=int32)\n",
            "tf.Tensor(\n",
            "[[0 1 1 0]\n",
            " [0 0 1 0]\n",
            " [1 0 0 0]\n",
            " [1 0 1 1]\n",
            " [1 1 0 1]\n",
            " [0 0 0 0]\n",
            " [0 0 0 0]\n",
            " [1 0 0 0]\n",
            " [0 1 1 1]\n",
            " [0 1 0 1]\n",
            " [0 1 0 1]\n",
            " [0 1 0 0]\n",
            " [0 1 0 1]\n",
            " [1 1 1 1]\n",
            " [0 0 0 0]\n",
            " [0 1 0 1]], shape=(16, 4), dtype=int8)\n"
          ],
          "name": "stdout"
        }
      ]
    },
    {
      "cell_type": "code",
      "metadata": {
        "id": "hKyipIp250oH",
        "colab": {
          "base_uri": "https://localhost:8080/"
        },
        "outputId": "0da4e66a-07f4-4b59-9b93-29a3b31162b1"
      },
      "source": [
        "tf.less([-0.2, -0.4, 0.9, 0.8],0.0)"
      ],
      "execution_count": null,
      "outputs": [
        {
          "output_type": "execute_result",
          "data": {
            "text/plain": [
              "<tf.Tensor: shape=(4,), dtype=bool, numpy=array([ True,  True, False, False])>"
            ]
          },
          "metadata": {
            "tags": []
          },
          "execution_count": 17
        }
      ]
    },
    {
      "cell_type": "code",
      "metadata": {
        "id": "XySCdHwT5iiQ",
        "colab": {
          "base_uri": "https://localhost:8080/"
        },
        "outputId": "8788bfe1-7d74-4f23-a2f0-4e9af626adbc"
      },
      "source": [
        "    u_hat_hard = tf.cast(tf.less([-0.2, 0.4, -0.9, 0.8],0.0),tf.int8)\n",
        "    print(u_hat_hard)"
      ],
      "execution_count": null,
      "outputs": [
        {
          "output_type": "stream",
          "text": [
            "tf.Tensor([1 0 1 0], shape=(4,), dtype=int8)\n"
          ],
          "name": "stdout"
        }
      ]
    },
    {
      "cell_type": "code",
      "metadata": {
        "id": "pn28c1-lbzeg"
      },
      "source": [
        "def autoencode(batch_size,awgn_ebno_db):\n",
        "    s = tf.random.uniform(shape=(batch_size,),minval=0,maxval=M,dtype=tf.int32)\n",
        "    u = tf.gather(L,s)\n",
        "    \n",
        "    x = encoder(s)\n",
        "    y = awgn_channel(x,awgn_ebno_db)\n",
        "    u_l = decoder(y)\n",
        "    \n",
        "    return u,u_l\n",
        "\n",
        "@tf.function\n",
        "def train_step(batch_size,awgn_ebno_db):\n",
        "    \n",
        "    with tf.GradientTape() as tape:\n",
        "        u,u_l = autoencode(batch_size,awgn_ebno_db)\n",
        "        # Loss\n",
        "        loss = tf.losses.binary_crossentropy(y_true=u,y_pred=-u_l,from_logits=True)\n",
        "\n",
        "    trainable_weights = [] + encoder.trainable_variables + decoder.trainable_variables\n",
        "    gradients = tape.gradient(loss, trainable_weights)\n",
        "    # Applying gradients for this batch\n",
        "    optimizer.apply_gradients(zip(gradients, trainable_weights))\n",
        "    \n",
        "    return tf.reduce_mean(loss)\n",
        "\n",
        "@tf.function\n",
        "def test_step(batch_size,awgn_ebno_db):\n",
        "    u,u_l = autoencode(batch_size,awgn_ebno_db)\n",
        "    \n",
        "    # AE Performance metrics\n",
        "    u_hat_hard = tf.cast(tf.less(u_l,0.0),tf.int8)\n",
        "    correct_predictions = tf.equal(u_hat_hard,u)\n",
        "    accuracy = tf.reduce_mean(tf.cast(correct_predictions, tf.float32))\n",
        "    ber_hard = 1.0 - accuracy\n",
        "    \n",
        "    return ber_hard"
      ],
      "execution_count": null,
      "outputs": []
    },
    {
      "cell_type": "code",
      "metadata": {
        "id": "Lkw-lelTbzel"
      },
      "source": [
        "def train(training_params, validation_params):  \n",
        "    '''Training and validation loop'''\n",
        "    for index, params in enumerate(training_params):\n",
        "        batch_size, lr, ebnodb, iterations = params\n",
        "        print('\\nBatch Size: ' + str(batch_size) +\n",
        "              ', Learning Rate: ' + str(lr) +\n",
        "              ', EbNodB: ' + str(ebnodb) +\n",
        "              ', Iterations: ' + str(iterations))\n",
        "\n",
        "        val_size, val_ebnodb, val_steps = validation_params[index]\n",
        "\n",
        "        for i in range(iterations):\n",
        "            optimizer.learning_rate = lr\n",
        "            loss = train_step(tf.constant(batch_size), tf.constant(ebnodb)).numpy()\n",
        "            if (i%val_steps==0):\n",
        "                ber = test_step(val_size,val_ebnodb).numpy()\n",
        "                print(\"loss: %.3e    BER: %.3e\" % (loss,ber))\n",
        "    return\n",
        "\n",
        "def ber_sim(ebnodbs, batch_size, iterations):\n",
        "    '''Monte Carlo simulations of BER for a range of Eb/No\n",
        "       Sometimes we to compute statistics for batch sizes that do not fit into the GPUs memory.\n",
        "       You can average over multiple batches with small size instead.           \n",
        "    '''\n",
        "    BER = np.zeros_like(ebnodbs)\n",
        "    for i in range(iterations):\n",
        "        ber = np.array([test_step(tf.constant(batch_size), tf.constant(ebnodb)).numpy() for ebnodb in ebnodbs])\n",
        "        BER = BER + ber/iterations\n",
        "    return BER\n",
        "\n",
        "def plot_ber(EbNodB, BER):\n",
        "    '''Plot a BER vs SNR curve'''\n",
        "    image = plt.figure(figsize=(10,8))\n",
        "    plt.plot(EbNodB, BER, '-r', linewidth=2.0)\n",
        "    plt.yscale('log')\n",
        "    plt.xlabel('EbNo (dB)', fontsize=18)\n",
        "    plt.ylabel('Bit-error rate', fontsize=18)\n",
        "    plt.grid(True)\n",
        "    plt.ylim([1e-5,1])\n",
        "    return image\n"
      ],
      "execution_count": null,
      "outputs": []
    },
    {
      "cell_type": "markdown",
      "metadata": {
        "id": "8imYQpYSkxFn"
      },
      "source": [
        "### training parameters\n",
        "\n",
        "Here we define the SNR during training. The autoencoder will then be trained to find an optimal constellation for this specific training SNR.\n",
        "Mind that this constellation might not be the optimal constellation for the total SNR range, also the receiver is only trained to demap at training SNR."
      ]
    },
    {
      "cell_type": "code",
      "metadata": {
        "id": "bJTweRGtbzet"
      },
      "source": [
        "train_EbNodB = -5.0\n",
        "val_EbNodB = train_EbNodB\n",
        "\n",
        "training_params = [\n",
        "    #batch_size, lr, ebnodb, iterations\n",
        "    [100    , 0.001, train_EbNodB, 1000],\n",
        "    [1000    , 0.0001, train_EbNodB, 1000],\n",
        "    [10000    , 0.0001, train_EbNodB, 1000],\n",
        "    [100000    , 0.0001, train_EbNodB, 1000]\n",
        "]\n",
        "\n",
        "validation_params = [\n",
        "    #batch_size, ebnodb, val_steps \n",
        "    [100000, val_EbNodB, 100],\n",
        "    [100000, val_EbNodB, 100],\n",
        "    [100000, val_EbNodB, 100],\n",
        "    [100000, val_EbNodB, 100]\n",
        "]"
      ],
      "execution_count": null,
      "outputs": []
    },
    {
      "cell_type": "markdown",
      "metadata": {
        "id": "lmL8RxHlleSG"
      },
      "source": [
        "### start the training"
      ]
    },
    {
      "cell_type": "code",
      "metadata": {
        "id": "Z91SYKDJbzey",
        "colab": {
          "base_uri": "https://localhost:8080/"
        },
        "outputId": "0db96a2f-17e5-4929-b214-f698dd5f0305"
      },
      "source": [
        "train(training_params,validation_params)"
      ],
      "execution_count": null,
      "outputs": [
        {
          "output_type": "stream",
          "text": [
            "\n",
            "Batch Size: 100, Learning Rate: 0.001, EbNodB: -5.0, Iterations: 1000\n",
            "loss: 6.883e-01    BER: 4.274e-01\n",
            "loss: 4.934e-01    BER: 2.977e-01\n",
            "loss: 5.084e-01    BER: 3.053e-01\n",
            "loss: 4.988e-01    BER: 3.073e-01\n",
            "loss: 5.171e-01    BER: 3.096e-01\n",
            "loss: 4.837e-01    BER: 3.078e-01\n",
            "loss: 5.171e-01    BER: 3.063e-01\n",
            "loss: 5.021e-01    BER: 3.140e-01\n",
            "loss: 5.438e-01    BER: 3.126e-01\n",
            "loss: 5.188e-01    BER: 3.133e-01\n",
            "\n",
            "Batch Size: 1000, Learning Rate: 0.0001, EbNodB: -5.0, Iterations: 1000\n",
            "loss: 5.052e-01    BER: 3.114e-01\n",
            "loss: 4.897e-01    BER: 3.103e-01\n",
            "loss: 4.968e-01    BER: 3.128e-01\n",
            "loss: 4.962e-01    BER: 3.106e-01\n",
            "loss: 5.066e-01    BER: 3.111e-01\n",
            "loss: 4.963e-01    BER: 3.106e-01\n",
            "loss: 5.033e-01    BER: 3.108e-01\n",
            "loss: 4.892e-01    BER: 3.105e-01\n",
            "loss: 4.985e-01    BER: 3.120e-01\n",
            "loss: 5.057e-01    BER: 3.134e-01\n",
            "\n",
            "Batch Size: 10000, Learning Rate: 0.0001, EbNodB: -5.0, Iterations: 1000\n",
            "loss: 4.984e-01    BER: 3.128e-01\n",
            "loss: 4.979e-01    BER: 3.142e-01\n",
            "loss: 4.947e-01    BER: 3.132e-01\n",
            "loss: 4.982e-01    BER: 3.137e-01\n",
            "loss: 4.961e-01    BER: 3.135e-01\n",
            "loss: 4.991e-01    BER: 3.137e-01\n",
            "loss: 4.936e-01    BER: 3.122e-01\n",
            "loss: 4.965e-01    BER: 3.132e-01\n",
            "loss: 4.987e-01    BER: 3.131e-01\n",
            "loss: 4.957e-01    BER: 3.145e-01\n",
            "\n",
            "Batch Size: 100000, Learning Rate: 0.0001, EbNodB: -5.0, Iterations: 1000\n",
            "loss: 4.983e-01    BER: 3.158e-01\n",
            "loss: 4.969e-01    BER: 3.122e-01\n",
            "loss: 4.978e-01    BER: 3.123e-01\n",
            "loss: 4.977e-01    BER: 3.145e-01\n",
            "loss: 4.975e-01    BER: 3.151e-01\n",
            "loss: 4.985e-01    BER: 3.139e-01\n",
            "loss: 4.986e-01    BER: 3.146e-01\n",
            "loss: 4.973e-01    BER: 3.146e-01\n",
            "loss: 4.973e-01    BER: 3.143e-01\n",
            "loss: 4.972e-01    BER: 3.142e-01\n"
          ],
          "name": "stdout"
        }
      ]
    },
    {
      "cell_type": "markdown",
      "metadata": {
        "id": "xceeNTgvljon"
      },
      "source": [
        "# Evaluation\n",
        "\n",
        "At first, let's have a look at the found constellation"
      ]
    },
    {
      "cell_type": "code",
      "metadata": {
        "id": "xMoE9Dt4bze1",
        "colab": {
          "base_uri": "https://localhost:8080/",
          "height": 431
        },
        "outputId": "ef222d94-69bc-43ee-c43f-ae489ed73b99"
      },
      "source": [
        "plot_constellation(show_labels=True);"
      ],
      "execution_count": null,
      "outputs": [
        {
          "output_type": "display_data",
          "data": {
            "text/plain": [
              "<Figure size 432x432 with 1 Axes>"
            ],
            "image/png": "[encoded data removed]"
          },
          "metadata": {
            "tags": [],
            "needs_background": "light"
          }
        }
      ]
    },
    {
      "cell_type": "markdown",
      "metadata": {
        "id": "XSNNsSvylwxG"
      },
      "source": [
        "#### BER perfomance evaluation\n",
        "Here we compare the AE's BER performance with classical baselines.\n",
        "The baseline results are taken from our webdemo [Physical Layer Performance Measures - Symbol Error Rate, BER and Mutual Information](https://webdemo.inue.uni-stuttgart.de/webdemos/02_lectures/communication_3/performance_measures/)."
      ]
    },
    {
      "cell_type": "code",
      "metadata": {
        "id": "m3gwg_ixbze5",
        "colab": {
          "base_uri": "https://localhost:8080/",
          "height": 511
        },
        "outputId": "ff676f3c-d5b8-4c65-9630-a3f969f45af4"
      },
      "source": [
        "# reference curves\n",
        "ebnodbs_ref = np.linspace(-5,20,26)\n",
        "ber_ref_hard_n2 = np.array([[2.132e-01, 1.861e-01, 1.588e-01, 1.303e-01, 1.037e-01, 7.823e-02, 5.592e-02, 3.737e-02, 2.282e-02, 1.249e-02, 5.959e-03, 2.385e-03, 7.400e-04, 2.050e-04, 3.500e-05, 1.000e-06, 0.000e+00, 0.000e+00, 0.000e+00, 0.000e+00, 0.000e+00, 0.000e+00, 0.000e+00, 0.000e+00, 0.000e+00, 0.000e+00],[2.137e-01, 1.857e-01, 1.581e-01, 1.310e-01, 1.042e-01, 7.860e-02, 5.629e-02, 3.746e-02, 2.302e-02, 1.241e-02, 5.978e-03, 2.387e-03, 7.570e-04, 2.010e-04, 3.600e-05, 5.000e-06, 1.000e-06, 0.000e+00, 0.000e+00, 0.000e+00, 0.000e+00, 0.000e+00, 0.000e+00, 0.000e+00, 0.000e+00, 0.000e+00],[2.713e-01, 2.474e-01, 2.231e-01, 1.966e-01, 1.697e-01, 1.426e-01, 1.152e-01, 8.909e-02, 6.482e-02, 4.411e-02, 2.738e-02, 1.539e-02, 7.492e-03, 3.011e-03, 1.000e-03, 2.537e-04, 4.100e-05, 2.667e-06, 1.000e-06, 0.000e+00, 0.000e+00, 0.000e+00, 0.000e+00, 0.000e+00, 0.000e+00, 0.000e+00],[2.618e-01, 2.367e-01, 2.116e-01, 1.872e-01, 1.636e-01, 1.411e-01, 1.187e-01, 9.781e-02, 7.725e-02, 5.876e-02, 4.186e-02, 2.795e-02, 1.704e-02, 9.262e-03, 4.407e-03, 1.768e-03, 5.617e-04, 1.443e-04, 2.025e-05, 3.000e-06, 5.000e-07, 0.000e+00, 0.000e+00, 0.000e+00, 0.000e+00, 0.000e+00]])\n",
        "ber_ref_soft_n2 = np.array([[2.132e-01, 1.861e-01, 1.588e-01, 1.303e-01, 1.037e-01, 7.823e-02, 5.592e-02, 3.737e-02, 2.282e-02, 1.249e-02, 5.959e-03, 2.385e-03, 7.400e-04, 2.050e-04, 3.500e-05, 1.000e-06, 0.000e+00, 0.000e+00, 0.000e+00, 0.000e+00, 0.000e+00, 0.000e+00, 0.000e+00, 0.000e+00, 0.000e+00, 0.000e+00],[2.137e-01, 1.858e-01, 1.582e-01, 1.309e-01, 1.043e-01, 7.858e-02, 5.627e-02, 3.746e-02, 2.301e-02, 1.241e-02, 5.978e-03, 2.387e-03, 7.570e-04, 2.010e-04, 3.600e-05, 5.000e-06, 1.000e-06, 0.000e+00, 0.000e+00, 0.000e+00, 0.000e+00, 0.000e+00, 0.000e+00, 0.000e+00, 0.000e+00, 0.000e+00],[2.655e-01, 2.423e-01, 2.188e-01, 1.932e-01, 1.674e-01, 1.410e-01, 1.143e-01, 8.866e-02, 6.462e-02, 4.401e-02, 2.734e-02, 1.537e-02, 7.492e-03, 3.011e-03, 9.997e-04, 2.537e-04, 4.100e-05, 2.667e-06, 1.000e-06, 0.000e+00, 0.000e+00, 0.000e+00, 0.000e+00, 0.000e+00, 0.000e+00, 0.000e+00],[2.600e-01, 2.356e-01, 2.110e-01, 1.869e-01, 1.635e-01, 1.410e-01, 1.187e-01, 9.781e-02, 7.725e-02, 5.876e-02, 4.186e-02, 2.795e-02, 1.704e-02, 9.262e-03, 4.407e-03, 1.768e-03, 5.617e-04, 1.443e-04, 2.025e-05, 3.000e-06, 5.000e-07, 0.000e+00, 0.000e+00, 0.000e+00, 0.000e+00, 0.000e+00]])\n",
        "ber_ref_theory_n2 = np.array([[2.132e-01, 1.861e-01, 1.584e-01, 1.306e-01, 1.038e-01, 7.865e-02, 5.628e-02, 3.751e-02, 2.288e-02, 1.250e-02, 5.954e-03, 2.388e-03, 7.727e-04, 1.909e-04, 3.363e-05, 3.872e-06, 2.613e-07, 9.006e-09, 1.333e-10, 6.810e-13, 9.124e-16, 2.267e-19, 6.759e-24, 1.396e-29, 1.001e-36, 1.044e-45],[2.132e-01, 1.861e-01, 1.584e-01, 1.306e-01, 1.038e-01, 7.865e-02, 5.628e-02, 3.751e-02, 2.288e-02, 1.250e-02, 5.954e-03, 2.388e-03, 7.727e-04, 1.909e-04, 3.363e-05, 3.872e-06, 2.613e-07, 9.006e-09, 1.333e-10, 6.810e-13, 9.124e-16, 2.267e-19, 6.759e-24, 1.396e-29, 1.001e-36, 1.044e-45],[3.491e-01, 3.162e-01, 2.814e-01, 2.452e-01, 2.081e-01, 1.712e-01, 1.355e-01, 1.023e-01, 7.282e-02, 4.821e-02, 2.917e-02, 1.578e-02, 7.423e-03, 2.931e-03, 9.298e-04, 2.241e-04, 3.827e-05, 4.239e-06, 2.724e-07, 8.827e-09, 1.209e-10, 5.603e-13, 6.640e-16, 1.414e-19, 3.470e-24, 5.611e-30],[3.075e-01, 2.863e-01, 2.633e-01, 2.387e-01, 2.127e-01, 1.855e-01, 1.578e-01, 1.301e-01, 1.032e-01, 7.816e-02, 5.586e-02, 3.716e-02, 2.262e-02, 1.233e-02, 5.854e-03, 2.339e-03, 7.529e-04, 1.849e-04, 3.231e-05, 3.684e-06, 2.456e-07, 8.334e-09, 1.210e-10, 6.030e-13, 7.832e-16, 1.872e-19]])\n",
        "\n",
        "# autoencoder simulations\n",
        "ebnodbs = np.linspace(-5,20,26)\n",
        "bers = ber_sim(ebnodbs, 100000, 10);\n",
        "plot_ber(ebnodbs, bers);\n",
        "\n",
        "plt.plot(ebnodbs_ref,ber_ref_hard_n2[k-1]);\n",
        "plt.plot(ebnodbs_ref,ber_ref_soft_n2[k-1],\"--\");\n",
        "plt.plot(ebnodbs_ref,ber_ref_theory_n2[k-1],\"--\");\n",
        "\n",
        "plt.legend(['Autoencoder', '%d-QAM hard' % M,'%d-QAM soft' % M, 'closed-form approx.'], prop={'size': 16}, loc='upper right');"
      ],
      "execution_count": null,
      "outputs": [
        {
          "output_type": "display_data",
          "data": {
            "text/plain": [
              "<Figure size 720x576 with 1 Axes>"
            ],
            "image/png": "[encoded data removed]"
          },
          "metadata": {
            "tags": [],
            "needs_background": "light"
          }
        }
      ]
    },
    {
      "cell_type": "markdown",
      "metadata": {
        "id": "L3R2k_rdfPlV"
      },
      "source": [
        "Zoom in to the SNR region the AE was trained for:"
      ]
    },
    {
      "cell_type": "code",
      "metadata": {
        "id": "3BGO975pfPFt",
        "colab": {
          "base_uri": "https://localhost:8080/",
          "height": 505
        },
        "outputId": "aab6f620-b39f-42e5-ba2b-06f70b9062b0"
      },
      "source": [
        "# autoencoder simulations\n",
        "ebnodbs = np.linspace(-4,0,10)\n",
        "bers = ber_sim(ebnodbs, 100000, 10);\n",
        "plot_ber(ebnodbs, bers);\n",
        "\n",
        "plt.plot(ebnodbs_ref,ber_ref_hard_n2[k-1]);\n",
        "plt.plot(ebnodbs_ref,ber_ref_soft_n2[k-1],\"--\");\n",
        "plt.plot(ebnodbs_ref,ber_ref_theory_n2[k-1],\"--\");\n",
        "\n",
        "plt.xlim([ebnodbs[0],ebnodbs[-1]])\n",
        "plt.ylim([0.1,0.5])\n",
        "plt.legend(['Autoencoder', '%d-QAM hard' % M,'%d-QAM soft' % M, 'closed-form approx.'], prop={'size': 16}, loc='upper right');"
      ],
      "execution_count": null,
      "outputs": [
        {
          "output_type": "display_data",
          "data": {
            "text/plain": [
              "<Figure size 720x576 with 1 Axes>"
            ],
            "image/png": "[encoded data removed]"
          },
          "metadata": {
            "tags": [],
            "needs_background": "light"
          }
        }
      ]
    },
    {
      "cell_type": "markdown",
      "metadata": {
        "id": "eFr7pAg_xzKz"
      },
      "source": [
        "Training vs Validation Loss Graph\n",
        "It is a standard practice to show training vs validation loss/accuracy graph to illustrate whether the learning-based model generalizes well or if it overfits/underfit. We will implement this and put it in our report"
      ]
    },
    {
      "cell_type": "markdown",
      "metadata": {
        "id": "U-3I627AygK7"
      },
      "source": [
        "Illustrate that when trained with low EbNos, the model has diffculty learning the optimal constellation that generalizes well across a wide range of EbNos. We can interpret this as using inaccurate ground-truth labels in a supervised learning task, and the model is unable to learn the general relationship between the input and output."
      ]
    }
  ]
}