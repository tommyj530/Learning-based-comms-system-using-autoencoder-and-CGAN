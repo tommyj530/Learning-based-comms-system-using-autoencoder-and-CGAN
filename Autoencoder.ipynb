{
  "nbformat": 4,
  "nbformat_minor": 0,
  "metadata": {
    "accelerator": "GPU",
    "colab": {
      "name": "Autoencoder.ipynb",
      "provenance": [],
      "collapsed_sections": [],
      "include_colab_link": true
    },
    "kernelspec": {
      "display_name": "Python 3",
      "language": "python",
      "name": "python3"
    },
    "language_info": {
      "codemirror_mode": {
        "name": "ipython",
        "version": 3
      },
      "file_extension": ".py",
      "mimetype": "text/x-python",
      "name": "python",
      "nbconvert_exporter": "python",
      "pygments_lexer": "ipython3",
      "version": "3.6.9"
    }
  },
  "cells": [
    {
      "cell_type": "markdown",
      "metadata": {
        "id": "view-in-github",
        "colab_type": "text"
      },
      "source": [
        "<a href=\"https://colab.research.google.com/github/tommyj530/Learning-based-comms-system-using-autoencoder-and-CGAN/blob/main/Autoencoder.ipynb\" target=\"_parent\"><img src=\"https://colab.research.google.com/assets/colab-badge.svg\" alt=\"Open In Colab\"/></a>"
      ]
    },
    {
      "cell_type": "markdown",
      "metadata": {
        "id": "9De16NQbb7a7"
      },
      "source": [
        "# Autoencoder-Based End-to-End Communications System\n",
        "ELEC825 Machine Learning and Deep Learning @ Queen's University Kingston, ON"
      ]
    },
    {
      "cell_type": "markdown",
      "metadata": {
        "id": "XT4Ug5eKfK9c"
      },
      "source": [
        "## Training a bit-wise end-to-end communications system over the AWGN channel\n",
        "We can train over Rayleigh or Rician if more appropriate "
      ]
    },
    {
      "cell_type": "markdown",
      "metadata": {
        "id": "PrKN5drDB-CR"
      },
      "source": [
        "#### Import libraries"
      ]
    },
    {
      "cell_type": "code",
      "metadata": {
        "id": "gjiJLodpB8tF"
      },
      "source": [
        "import glob\n",
        "import imageio\n",
        "import numpy as np\n",
        "%matplotlib inline\n",
        "import matplotlib.pyplot as plt   \n",
        "import tensorflow as tf\n",
        "from tensorflow import keras\n",
        "from tensorflow.keras import layers\n",
        "import os\n",
        "os.environ[\"CUDA_VISIBLE_DEVICES\"] = \"1\" # Ignore if you do not have multiple GPUs\n",
        "\n",
        "import time \n",
        "from IPython import display"
      ],
      "execution_count": null,
      "outputs": []
    },
    {
      "cell_type": "code",
      "metadata": {
        "colab": {
          "base_uri": "https://localhost:8080/"
        },
        "id": "QlmYYC3LCEXW",
        "outputId": "f9d82e54-b149-4ae6-96a0-f21be12b8bea"
      },
      "source": [
        "print(tf.__version__)"
      ],
      "execution_count": null,
      "outputs": [
        {
          "output_type": "stream",
          "text": [
            "2.3.1\n"
          ],
          "name": "stdout"
        }
      ]
    },
    {
      "cell_type": "markdown",
      "metadata": {
        "id": "VOQ0rguifh2i"
      },
      "source": [
        "#### Autoencoder parameters"
      ]
    },
    {
      "cell_type": "code",
      "metadata": {
        "id": "oLPa-jQibzdk"
      },
      "source": [
        "k = 4                               # bit per autoencoder message\n",
        "M = 2**k                            # total nb of autoencoder messages\n",
        "n = 2                               # number of real-valued channel uses"
      ],
      "execution_count": null,
      "outputs": []
    },
    {
      "cell_type": "markdown",
      "metadata": {
        "id": "Zgtf4lNUfyay"
      },
      "source": [
        "## The Encoder / Transmitter"
      ]
    },
    {
      "cell_type": "code",
      "metadata": {
        "colab": {
          "base_uri": "https://localhost:8080/"
        },
        "id": "zq8SdgY8bzdy",
        "outputId": "23ad9c6b-6507-4032-c71f-d47f0be02e5a"
      },
      "source": [
        "encoder_input = tf.keras.Input(shape=(), dtype=tf.int32, name='enc_in')\n",
        "one_hot = tf.one_hot(encoder_input,depth=M)\n",
        "x = tf.keras.layers.Dense(128,activation=\"relu\")(one_hot)\n",
        "x = tf.keras.layers.Dense(128,activation=\"relu\")(x)\n",
        "x = tf.keras.layers.Dense(n,activation=None)(x)\n",
        "encoder_output = x / tf.sqrt(tf.reduce_mean(tf.square(x)))    # batch normalization to limit average signal power to 1.0 (per complex channel use)\n",
        "encoder = tf.keras.Model(encoder_input, encoder_output, name='encoder')\n",
        "encoder.summary()"
      ],
      "execution_count": null,
      "outputs": [
        {
          "output_type": "stream",
          "text": [
            "Model: \"encoder\"\n",
            "__________________________________________________________________________________________________\n",
            "Layer (type)                    Output Shape         Param #     Connected to                     \n",
            "==================================================================================================\n",
            "enc_in (InputLayer)             [(None,)]            0                                            \n",
            "__________________________________________________________________________________________________\n",
            "tf_op_layer_OneHot_5 (TensorFlo [(None, 16)]         0           enc_in[0][0]                     \n",
            "__________________________________________________________________________________________________\n",
            "dense_30 (Dense)                (None, 128)          2176        tf_op_layer_OneHot_5[0][0]       \n",
            "__________________________________________________________________________________________________\n",
            "dense_31 (Dense)                (None, 128)          16512       dense_30[0][0]                   \n",
            "__________________________________________________________________________________________________\n",
            "dense_32 (Dense)                (None, 2)            258         dense_31[0][0]                   \n",
            "__________________________________________________________________________________________________\n",
            "tf_op_layer_Square_5 (TensorFlo [(None, 2)]          0           dense_32[0][0]                   \n",
            "__________________________________________________________________________________________________\n",
            "tf_op_layer_Mean_5 (TensorFlowO [()]                 0           tf_op_layer_Square_5[0][0]       \n",
            "__________________________________________________________________________________________________\n",
            "tf_op_layer_Sqrt_5 (TensorFlowO [()]                 0           tf_op_layer_Mean_5[0][0]         \n",
            "__________________________________________________________________________________________________\n",
            "tf_op_layer_RealDiv_5 (TensorFl [(None, 2)]          0           dense_32[0][0]                   \n",
            "                                                                 tf_op_layer_Sqrt_5[0][0]         \n",
            "==================================================================================================\n",
            "Total params: 18,946\n",
            "Trainable params: 18,946\n",
            "Non-trainable params: 0\n",
            "__________________________________________________________________________________________________\n"
          ],
          "name": "stdout"
        }
      ]
    },
    {
      "cell_type": "markdown",
      "metadata": {
        "id": "gznssoPoZZ8k"
      },
      "source": [
        "Data Visualization"
      ]
    },
    {
      "cell_type": "code",
      "metadata": {
        "id": "yj7YkVpSIqiI"
      },
      "source": [
        ""
      ],
      "execution_count": null,
      "outputs": []
    },
    {
      "cell_type": "code",
      "metadata": {
        "colab": {
          "base_uri": "https://localhost:8080/"
        },
        "id": "IyhWyeJKYyi0",
        "outputId": "8a64ed2c-2da2-4e0a-c0b3-ee7f73517935"
      },
      "source": [
        "np.arange(M,dtype=np.int32)"
      ],
      "execution_count": null,
      "outputs": [
        {
          "output_type": "execute_result",
          "data": {
            "text/plain": [
              "array([ 0,  1,  2,  3,  4,  5,  6,  7,  8,  9, 10, 11, 12, 13, 14, 15],\n",
              "      dtype=int32)"
            ]
          },
          "metadata": {
            "tags": []
          },
          "execution_count": 125
        }
      ]
    },
    {
      "cell_type": "markdown",
      "metadata": {
        "id": "HI_zk3BesKhT"
      },
      "source": [
        "One-hot vector represetnation"
      ]
    },
    {
      "cell_type": "code",
      "metadata": {
        "colab": {
          "base_uri": "https://localhost:8080/"
        },
        "id": "ltoAgnjlYeDX",
        "outputId": "b007274e-a9a9-4568-8c39-56d7ddddda4f"
      },
      "source": [
        "print(tf.one_hot(np.arange(M,dtype=np.int32),  16))"
      ],
      "execution_count": null,
      "outputs": [
        {
          "output_type": "stream",
          "text": [
            "tf.Tensor(\n",
            "[[1. 0. 0. 0. 0. 0. 0. 0. 0. 0. 0. 0. 0. 0. 0. 0.]\n",
            " [0. 1. 0. 0. 0. 0. 0. 0. 0. 0. 0. 0. 0. 0. 0. 0.]\n",
            " [0. 0. 1. 0. 0. 0. 0. 0. 0. 0. 0. 0. 0. 0. 0. 0.]\n",
            " [0. 0. 0. 1. 0. 0. 0. 0. 0. 0. 0. 0. 0. 0. 0. 0.]\n",
            " [0. 0. 0. 0. 1. 0. 0. 0. 0. 0. 0. 0. 0. 0. 0. 0.]\n",
            " [0. 0. 0. 0. 0. 1. 0. 0. 0. 0. 0. 0. 0. 0. 0. 0.]\n",
            " [0. 0. 0. 0. 0. 0. 1. 0. 0. 0. 0. 0. 0. 0. 0. 0.]\n",
            " [0. 0. 0. 0. 0. 0. 0. 1. 0. 0. 0. 0. 0. 0. 0. 0.]\n",
            " [0. 0. 0. 0. 0. 0. 0. 0. 1. 0. 0. 0. 0. 0. 0. 0.]\n",
            " [0. 0. 0. 0. 0. 0. 0. 0. 0. 1. 0. 0. 0. 0. 0. 0.]\n",
            " [0. 0. 0. 0. 0. 0. 0. 0. 0. 0. 1. 0. 0. 0. 0. 0.]\n",
            " [0. 0. 0. 0. 0. 0. 0. 0. 0. 0. 0. 1. 0. 0. 0. 0.]\n",
            " [0. 0. 0. 0. 0. 0. 0. 0. 0. 0. 0. 0. 1. 0. 0. 0.]\n",
            " [0. 0. 0. 0. 0. 0. 0. 0. 0. 0. 0. 0. 0. 1. 0. 0.]\n",
            " [0. 0. 0. 0. 0. 0. 0. 0. 0. 0. 0. 0. 0. 0. 1. 0.]\n",
            " [0. 0. 0. 0. 0. 0. 0. 0. 0. 0. 0. 0. 0. 0. 0. 1.]], shape=(16, 16), dtype=float32)\n"
          ],
          "name": "stdout"
        }
      ]
    },
    {
      "cell_type": "markdown",
      "metadata": {
        "id": "owMroOhagZm1"
      },
      "source": [
        "#### Test the transmitter\n",
        "Generate signals for a batch of all possible M messages and have a look at the encoded signals"
      ]
    },
    {
      "cell_type": "code",
      "metadata": {
        "colab": {
          "base_uri": "https://localhost:8080/"
        },
        "id": "vVADW3x9bzd7",
        "outputId": "ade66ce8-cbe0-476f-99ae-b3f93f334318"
      },
      "source": [
        "x = encoder(np.arange(M,dtype=np.int32)).numpy()\n",
        "print(x)\n",
        "print(x.shape)"
      ],
      "execution_count": null,
      "outputs": [
        {
          "output_type": "stream",
          "text": [
            "[[-1.5841429   1.0467618 ]\n",
            " [-0.3894773   1.187317  ]\n",
            " [ 0.21745722  0.75318956]\n",
            " [-0.27367198  0.24959908]\n",
            " [ 0.55514765  0.01368466]\n",
            " [-1.2260412   0.80210406]\n",
            " [-1.6418612   0.42267004]\n",
            " [-0.7902019   2.6998048 ]\n",
            " [-0.4387854   1.5114129 ]\n",
            " [-0.07189167 -0.47470245]\n",
            " [-1.5009403   1.6949733 ]\n",
            " [ 0.00339377 -0.0442976 ]\n",
            " [-0.33304518  0.37391904]\n",
            " [-0.9116106   0.3349945 ]\n",
            " [-0.34950256  1.0636628 ]\n",
            " [-0.19978356  1.586305  ]]\n",
            "(16, 2)\n"
          ],
          "name": "stdout"
        }
      ]
    },
    {
      "cell_type": "markdown",
      "metadata": {
        "id": "1r7vnGNygxzH"
      },
      "source": [
        "#### Complex-valued constellation diagrams\n",
        "\n",
        "The constellation our AE uses. The constellation is optimized to reduce the performance metric (BER) during training."
      ]
    },
    {
      "cell_type": "code",
      "metadata": {
        "id": "hwpD_dcoc2ck"
      },
      "source": [
        "def plot_constellation(maxrange=None, show_labels=False):\n",
        "    '''Generate a plot of the current constellation'''\n",
        "    x = encoder(np.arange(M,dtype=np.int32)).numpy()\n",
        "    x = np.reshape(x,[M,int(n/2),2])\n",
        "    if (maxrange is None):\n",
        "        maxrange = np.max(np.abs(x))\n",
        "    for k in range(int(n/2)):\n",
        "        image = plt.figure(figsize=(6,6))\n",
        "        plt.grid(True)\n",
        "        plt.xlim(-maxrange,maxrange)\n",
        "        plt.ylim(-maxrange,maxrange)\n",
        "        for i in range(M):       \n",
        "            plt.scatter(x[i,k,0],x[i,k,1],c=\"black\",marker='x')\n",
        "            if show_labels:\n",
        "                plt.annotate(str(L[i].numpy()),(x[i,k,0],x[i,k,1]),c=\"gray\",ha='center',xytext=(0, 5),textcoords='offset points')\n",
        "        image.axes[0].set_xticks(np.array([-2,-1,0,1,2]))\n",
        "        image.axes[0].set_yticks(np.array([-2,-1,0,1,2]))\n",
        "        image.suptitle('%d. complex symbol' % (k+1))\n",
        "        plt.xlabel('Re')\n",
        "        plt.ylabel('Im')\n",
        "    return x, image"
      ],
      "execution_count": null,
      "outputs": []
    },
    {
      "cell_type": "markdown",
      "metadata": {
        "id": "uMVRLZdossEn"
      },
      "source": [
        "This is what the AE constellation looks like before training. Based on communication theory, we know that maximizing the Euclidean distance in addition to using Gray code between any two neightbouring constellation points reduces the probability of making an error."
      ]
    },
    {
      "cell_type": "code",
      "metadata": {
        "colab": {
          "base_uri": "https://localhost:8080/",
          "height": 431
        },
        "id": "8HGof-49cdgH",
        "outputId": "ee408ec3-145a-4b21-ce08-204ab2dfa9b5"
      },
      "source": [
        "plot_constellation();"
      ],
      "execution_count": null,
      "outputs": [
        {
          "output_type": "display_data",
          "data": {
            "text/plain": [
              "<Figure size 432x432 with 1 Axes>"
            ],
            "image/png": "[encoded data removed]"
          },
          "metadata": {
            "tags": [],
            "needs_background": "light"
          }
        }
      ]
    },
    {
      "cell_type": "markdown",
      "metadata": {
        "id": "fbwh7bAGheq-"
      },
      "source": [
        "#### Bit-Labeling for each AE message\n",
        "Label each of the M messages with a sequence of k bit (groud-truth labels)"
      ]
    },
    {
      "cell_type": "code",
      "metadata": {
        "colab": {
          "base_uri": "https://localhost:8080/"
        },
        "id": "bWCWudelceZi",
        "outputId": "ff86db69-ae70-4b63-f9b9-8862128365d7"
      },
      "source": [
        "np.binary_repr(3, width = k)[1]"
      ],
      "execution_count": null,
      "outputs": [
        {
          "output_type": "execute_result",
          "data": {
            "text/plain": [
              "'0'"
            ]
          },
          "metadata": {
            "tags": []
          },
          "execution_count": 130
        }
      ]
    },
    {
      "cell_type": "code",
      "metadata": {
        "colab": {
          "base_uri": "https://localhost:8080/"
        },
        "id": "DT88nuUmbzeK",
        "outputId": "8d4056bf-ab5d-4c54-dba3-5bf2e946394c"
      },
      "source": [
        "def get_bit_label_natural(k):\n",
        "    M=2**k\n",
        "    label_natural = np.zeros((M,k))\n",
        "\n",
        "    for j in range(M):\n",
        "        for i in range(k):\n",
        "            label_natural[j,i] = np.binary_repr(j, width = k)[i]\n",
        "    return label_natural\n",
        "\n",
        "L = tf.cast(get_bit_label_natural(k),dtype=tf.int8)\n",
        "print(L.numpy())"
      ],
      "execution_count": null,
      "outputs": [
        {
          "output_type": "stream",
          "text": [
            "[[0 0 0 0]\n",
            " [0 0 0 1]\n",
            " [0 0 1 0]\n",
            " [0 0 1 1]\n",
            " [0 1 0 0]\n",
            " [0 1 0 1]\n",
            " [0 1 1 0]\n",
            " [0 1 1 1]\n",
            " [1 0 0 0]\n",
            " [1 0 0 1]\n",
            " [1 0 1 0]\n",
            " [1 0 1 1]\n",
            " [1 1 0 0]\n",
            " [1 1 0 1]\n",
            " [1 1 1 0]\n",
            " [1 1 1 1]]\n"
          ],
          "name": "stdout"
        }
      ]
    },
    {
      "cell_type": "markdown",
      "metadata": {
        "id": "cQYOeLFGis5S"
      },
      "source": [
        "Initial constellation with labels"
      ]
    },
    {
      "cell_type": "code",
      "metadata": {
        "colab": {
          "base_uri": "https://localhost:8080/",
          "height": 431
        },
        "id": "hzlbs5cobzeV",
        "outputId": "b3eb7056-cad4-4423-aaca-c1b39fcb0bcf"
      },
      "source": [
        "plot_constellation(show_labels=True);"
      ],
      "execution_count": null,
      "outputs": [
        {
          "output_type": "display_data",
          "data": {
            "text/plain": [
              "<Figure size 432x432 with 1 Axes>"
            ],
            "image/png": "[encoded data removed]"
          },
          "metadata": {
            "tags": [],
            "needs_background": "light"
          }
        }
      ]
    },
    {
      "cell_type": "markdown",
      "metadata": {
        "id": "n3ir5x15i_HJ"
      },
      "source": [
        "# The AWGN Channel \n",
        "We can replace this with other stochastic channel models e.g. Rayleigh and Rician if needed. In the second part of this project, we will train a GAN and use it as a surrogate for the real channel."
      ]
    },
    {
      "cell_type": "code",
      "metadata": {
        "id": "GxIcpX_IbzeB"
      },
      "source": [
        "def ebnodb_2_noisestd(awgn_ebno_db):\n",
        "    return  1.0 / tf.sqrt(k/n * 2 * 10**(awgn_ebno_db/10.))  # noise variance per complex-valued component\n",
        "\n",
        "def awgn_channel(x,awgn_ebno_db):\n",
        "    noise_std = ebnodb_2_noisestd(awgn_ebno_db)\n",
        "    return x + tf.random.normal(shape=tf.shape(x)) * tf.cast(noise_std,dtype=tf.float32)"
      ],
      "execution_count": null,
      "outputs": []
    },
    {
      "cell_type": "markdown",
      "metadata": {
        "id": "IUtnCF09jcpo"
      },
      "source": [
        "# The Decoder / Receiver"
      ]
    },
    {
      "cell_type": "code",
      "metadata": {
        "colab": {
          "base_uri": "https://localhost:8080/"
        },
        "id": "9a2V-S-3bzeG",
        "outputId": "04a220e1-3e8a-47d2-990e-da6f5d8d8ece"
      },
      "source": [
        "decoder_input = tf.keras.Input(shape=(n), name='dec_in')\n",
        "x = tf.keras.layers.Dense(128,activation=\"relu\")(decoder_input)\n",
        "x = tf.keras.layers.Dense(128,activation=\"relu\")(x)\n",
        "decoder_output = tf.keras.layers.Dense(k,activation=None)(x)\n",
        "decoder = tf.keras.Model(decoder_input, decoder_output, name='decoder')\n",
        "decoder.summary()"
      ],
      "execution_count": null,
      "outputs": [
        {
          "output_type": "stream",
          "text": [
            "Model: \"decoder\"\n",
            "_________________________________________________________________\n",
            "Layer (type)                 Output Shape              Param #   \n",
            "=================================================================\n",
            "dec_in (InputLayer)          [(None, 2)]               0         \n",
            "_________________________________________________________________\n",
            "dense_33 (Dense)             (None, 128)               384       \n",
            "_________________________________________________________________\n",
            "dense_34 (Dense)             (None, 128)               16512     \n",
            "_________________________________________________________________\n",
            "dense_35 (Dense)             (None, 4)                 516       \n",
            "=================================================================\n",
            "Total params: 17,412\n",
            "Trainable params: 17,412\n",
            "Non-trainable params: 0\n",
            "_________________________________________________________________\n"
          ],
          "name": "stdout"
        }
      ]
    },
    {
      "cell_type": "markdown",
      "metadata": {
        "id": "xbZwiOPOjoi4"
      },
      "source": [
        "# Training"
      ]
    },
    {
      "cell_type": "markdown",
      "metadata": {
        "id": "cm1bq5xK1XKS"
      },
      "source": [
        "**Things to implement**\n",
        "*   Training vs Validation Loss/Accuracy Graph\n",
        "*   Early Stopping\n",
        "*   Training with low EbNo vs high EbNo\n",
        "*   Training with long sequences \n"
      ]
    },
    {
      "cell_type": "code",
      "metadata": {
        "id": "cbT5vPMVbzeb"
      },
      "source": [
        "optimizer = tf.keras.optimizers.Adam(learning_rate=0.001)"
      ],
      "execution_count": null,
      "outputs": []
    },
    {
      "cell_type": "code",
      "metadata": {
        "colab": {
          "base_uri": "https://localhost:8080/"
        },
        "id": "7pB7casUiDAb",
        "outputId": "7d2ba293-ccd1-48a9-a71a-744f3a6f2548"
      },
      "source": [
        "batch_size = 16\n",
        "s = tf.random.uniform(shape=(batch_size,),minval=0,maxval=M,dtype=tf.int32)\n",
        "print(L)\n",
        "print(s)\n",
        "print(tf.gather(L,s))"
      ],
      "execution_count": null,
      "outputs": [
        {
          "output_type": "stream",
          "text": [
            "tf.Tensor(\n",
            "[[0 0 0 0]\n",
            " [0 0 0 1]\n",
            " [0 0 1 0]\n",
            " [0 0 1 1]\n",
            " [0 1 0 0]\n",
            " [0 1 0 1]\n",
            " [0 1 1 0]\n",
            " [0 1 1 1]\n",
            " [1 0 0 0]\n",
            " [1 0 0 1]\n",
            " [1 0 1 0]\n",
            " [1 0 1 1]\n",
            " [1 1 0 0]\n",
            " [1 1 0 1]\n",
            " [1 1 1 0]\n",
            " [1 1 1 1]], shape=(16, 4), dtype=int8)\n",
            "tf.Tensor([ 8  2  1  3  0  0 15  2  5  9 14  2 13  9  9  5], shape=(16,), dtype=int32)\n",
            "tf.Tensor(\n",
            "[[1 0 0 0]\n",
            " [0 0 1 0]\n",
            " [0 0 0 1]\n",
            " [0 0 1 1]\n",
            " [0 0 0 0]\n",
            " [0 0 0 0]\n",
            " [1 1 1 1]\n",
            " [0 0 1 0]\n",
            " [0 1 0 1]\n",
            " [1 0 0 1]\n",
            " [1 1 1 0]\n",
            " [0 0 1 0]\n",
            " [1 1 0 1]\n",
            " [1 0 0 1]\n",
            " [1 0 0 1]\n",
            " [0 1 0 1]], shape=(16, 4), dtype=int8)\n"
          ],
          "name": "stdout"
        }
      ]
    },
    {
      "cell_type": "code",
      "metadata": {
        "colab": {
          "base_uri": "https://localhost:8080/"
        },
        "id": "hKyipIp250oH",
        "outputId": "a2e5cc52-21e8-4e4c-a36a-429a4f9e681f"
      },
      "source": [
        "tf.less([-0.2, -0.4, 0.9, 0.8],0.0)"
      ],
      "execution_count": null,
      "outputs": [
        {
          "output_type": "execute_result",
          "data": {
            "text/plain": [
              "<tf.Tensor: shape=(4,), dtype=bool, numpy=array([ True,  True, False, False])>"
            ]
          },
          "metadata": {
            "tags": []
          },
          "execution_count": 137
        }
      ]
    },
    {
      "cell_type": "code",
      "metadata": {
        "colab": {
          "base_uri": "https://localhost:8080/"
        },
        "id": "XySCdHwT5iiQ",
        "outputId": "1f052630-df44-49da-e752-52e3086f04c2"
      },
      "source": [
        "    u_hat_hard = tf.cast(tf.less([-0.2, 0.4, -0.9, 0.8],0.0),tf.int8)\n",
        "    print(u_hat_hard)"
      ],
      "execution_count": null,
      "outputs": [
        {
          "output_type": "stream",
          "text": [
            "tf.Tensor([1 0 1 0], shape=(4,), dtype=int8)\n"
          ],
          "name": "stdout"
        }
      ]
    },
    {
      "cell_type": "code",
      "metadata": {
        "id": "pn28c1-lbzeg"
      },
      "source": [
        "def autoencode(batch_size,awgn_ebno_db):\n",
        "    s = tf.random.uniform(shape=(batch_size,),minval=0,maxval=M,dtype=tf.int32)\n",
        "    u = tf.gather(L,s)\n",
        "    \n",
        "    x = encoder(s)\n",
        "    y = awgn_channel(x,awgn_ebno_db)\n",
        "    u_l = decoder(y)\n",
        "    \n",
        "    return u,u_l\n",
        "\n",
        "#to test with real channel\n",
        "def autoencode_test(batch_size,awgn_ebno_db):\n",
        "    s = tf.random.uniform(shape=(batch_size,),minval=0,maxval=M,dtype=tf.int32)\n",
        "    u = tf.gather(L,s)\n",
        "    \n",
        "    x = encoder(s)\n",
        "    y = awgn_channel(x,awgn_ebno_db)\n",
        "    u_l = decoder(y)\n",
        "    \n",
        "    return u,u_l\n",
        "\n",
        "@tf.function\n",
        "def train_step(batch_size,awgn_ebno_db):\n",
        "    \n",
        "    with tf.GradientTape() as tape:\n",
        "        u,u_l = autoencode(batch_size,awgn_ebno_db)\n",
        "        # Loss\n",
        "        loss = tf.losses.binary_crossentropy(y_true=u,y_pred=-u_l,from_logits=True)\n",
        "\n",
        "    trainable_weights = [] + encoder.trainable_variables + decoder.trainable_variables\n",
        "    gradients = tape.gradient(loss, trainable_weights)\n",
        "    # Applying gradients for this batch\n",
        "    optimizer.apply_gradients(zip(gradients, trainable_weights))\n",
        "    \n",
        "    return tf.reduce_mean(loss)\n",
        "\n",
        "@tf.function\n",
        "def test_step(batch_size,awgn_ebno_db):\n",
        "    u,u_l = autoencode(batch_size,awgn_ebno_db)\n",
        "    \n",
        "    # AE Performance metrics\n",
        "    u_hat_hard = tf.cast(tf.less(u_l,0.0),tf.int8)\n",
        "    correct_predictions = tf.equal(u_hat_hard,u)\n",
        "    accuracy = tf.reduce_mean(tf.cast(correct_predictions, tf.float32))\n",
        "    ber_hard = 1.0 - accuracy\n",
        "    \n",
        "    return ber_hard\n",
        "\n",
        "def validation_loss(batch_size,awgn_ebno_db):\n",
        "    u,u_l = autoencode(batch_size,awgn_ebno_db)\n",
        "    loss = tf.losses.binary_crossentropy(y_true=u,y_pred=-u_l,from_logits=True)\n",
        "    return tf.reduce_mean(loss)\n",
        "\n",
        "def plot_training_validation_loss(loss):\n",
        "    '''Plot the training loss vs validation'''\n",
        "    image = plt.figure(figsize=(10,8))\n",
        "    #this wont give an error if you change the training params but it wont be right anymore\n",
        "    #need to change the epoch upper limit if training params are changed\n",
        "    epoch = np.linspace(0,3.9,np.size(loss,0))\n",
        "    plt.plot(epoch, loss[:,0], '-r', linewidth=2.0)\n",
        "    plt.plot(epoch, loss[:,1], '-g', linewidth=2.0)\n",
        "    plt.xlabel('Epoch', fontsize=18)\n",
        "    plt.ylabel('Loss', fontsize=18)\n",
        "    plt.grid(True)\n",
        "    plt.yscale('log')\n",
        "    image.axes[0].set_xticks(np.array([0,1,2,3,4]))\n",
        "    #plt.ylim([1e-5,1])\n",
        "    plt.legend(['Training',  'Validation']);\n",
        "    return "
      ],
      "execution_count": null,
      "outputs": []
    },
    {
      "cell_type": "code",
      "metadata": {
        "id": "Lkw-lelTbzel"
      },
      "source": [
        "def train(training_params, validation_params):  \n",
        "    '''Training and validation loop'''\n",
        "    losses = np.empty([40,2])\n",
        "    for index, params in enumerate(training_params):\n",
        "        batch_size, lr, ebnodb, iterations = params\n",
        "        print('\\nBatch Size: ' + str(batch_size) +\n",
        "              ', Learning Rate: ' + str(lr) +\n",
        "              ', EbNodB: ' + str(ebnodb) +\n",
        "              ', Iterations: ' + str(iterations))\n",
        "\n",
        "        val_size, val_ebnodb, val_steps = validation_params[index]\n",
        "\n",
        "        for i in range(iterations):\n",
        "            optimizer.learning_rate = lr\n",
        "            loss = train_step(tf.constant(batch_size), tf.constant(ebnodb)).numpy()\n",
        "            if (i%val_steps==0):\n",
        "                #ber = test_step(val_size,val_ebnodb).numpy()\n",
        "                #changed this so that the evaluation is done using the test set (awgn channel not the generator channel)\n",
        "                ber = test_step(val_size,val_ebnodb).numpy()\n",
        "                val_loss = validation_loss(val_size,val_ebnodb).numpy()\n",
        "                losses[index*10+i//val_steps] = loss, val_loss\n",
        "                print(\"loss: %.3e    BER: %.3e\" % (loss,ber))\n",
        "    return losses\n",
        "\n",
        "def ber_sim(ebnodbs, batch_size, iterations):\n",
        "    '''Monte Carlo simulations of BER for a range of Eb/No\n",
        "       Sometimes we to compute statistics for batch sizes that do not fit into the GPUs memory.\n",
        "       You can average over multiple batches with small size instead.           \n",
        "    '''\n",
        "    BER = np.zeros_like(ebnodbs)\n",
        "    for i in range(iterations):\n",
        "        ber = np.array([test_step(tf.constant(batch_size), tf.constant(ebnodb)).numpy() for ebnodb in ebnodbs])\n",
        "        BER = BER + ber/iterations\n",
        "    return BER\n",
        "\n",
        "def plot_ber(EbNodB, BER):\n",
        "    '''Plot a BER vs SNR curve'''\n",
        "    image = plt.figure(figsize=(10,8))\n",
        "    plt.plot(EbNodB, BER, '-r', linewidth=2.0)\n",
        "    plt.yscale('log')\n",
        "    plt.xlabel('EbNo (dB)', fontsize=18)\n",
        "    plt.ylabel('Bit-error rate', fontsize=18)\n",
        "    plt.grid(True)\n",
        "    plt.ylim([1e-5,1])\n",
        "    return image\n"
      ],
      "execution_count": null,
      "outputs": []
    },
    {
      "cell_type": "markdown",
      "metadata": {
        "id": "8imYQpYSkxFn"
      },
      "source": [
        "### training parameters\n",
        "\n",
        "Here we define the SNR during training. The autoencoder will then be trained to find an optimal constellation for this specific training SNR.\n",
        "Mind that this constellation might not be the optimal constellation for the total SNR range, also the receiver is only trained to demap at training SNR."
      ]
    },
    {
      "cell_type": "code",
      "metadata": {
        "id": "bJTweRGtbzet"
      },
      "source": [
        "train_EbNodB = 10.0\n",
        "val_EbNodB = train_EbNodB\n",
        "\n",
        "training_params = [\n",
        "    #batch_size, lr, ebnodb, iterations\n",
        "    [100    , 0.001, train_EbNodB, 1000],\n",
        "    [1000    , 0.0001, train_EbNodB, 1000],\n",
        "    [10000    , 0.0001, train_EbNodB, 1000],\n",
        "    [100000    , 0.0001, train_EbNodB, 1000],\n",
        "]\n",
        "\n",
        "validation_params = [\n",
        "    #batch_size, ebnodb, val_steps \n",
        "    [100   , val_EbNodB, 100],\n",
        "    [1000  , val_EbNodB, 100],\n",
        "    [10000 , val_EbNodB, 100],\n",
        "    [100000, val_EbNodB, 100]\n",
        "]"
      ],
      "execution_count": null,
      "outputs": []
    },
    {
      "cell_type": "markdown",
      "metadata": {
        "id": "lmL8RxHlleSG"
      },
      "source": [
        "### start the training"
      ]
    },
    {
      "cell_type": "code",
      "metadata": {
        "colab": {
          "base_uri": "https://localhost:8080/"
        },
        "id": "Z91SYKDJbzey",
        "outputId": "b9e42cbc-4b37-404f-ba8e-1897ec4925cd"
      },
      "source": [
        "losses = train(training_params,validation_params)"
      ],
      "execution_count": null,
      "outputs": [
        {
          "output_type": "stream",
          "text": [
            "\n",
            "Batch Size: 100, Learning Rate: 0.001, EbNodB: 10.0, Iterations: 1000\n",
            "loss: 6.923e-01    BER: 4.500e-01\n",
            "loss: 2.445e-01    BER: 1.000e-01\n",
            "loss: 1.355e-01    BER: 4.000e-02\n",
            "loss: 6.684e-02    BER: 1.250e-02\n",
            "loss: 3.925e-02    BER: 0.000e+00\n",
            "loss: 2.695e-02    BER: 5.000e-03\n",
            "loss: 2.089e-02    BER: 0.000e+00\n",
            "loss: 3.966e-02    BER: 5.000e-03\n",
            "loss: 1.227e-02    BER: 7.500e-03\n",
            "loss: 1.269e-02    BER: 7.500e-03\n",
            "\n",
            "Batch Size: 1000, Learning Rate: 0.0001, EbNodB: 10.0, Iterations: 1000\n",
            "loss: 1.264e-02    BER: 1.750e-03\n",
            "loss: 1.056e-02    BER: 3.000e-03\n",
            "loss: 9.886e-03    BER: 2.750e-03\n",
            "loss: 1.282e-02    BER: 4.250e-03\n",
            "loss: 8.713e-03    BER: 1.000e-03\n",
            "loss: 8.456e-03    BER: 3.500e-03\n",
            "loss: 6.534e-03    BER: 3.250e-03\n",
            "loss: 8.038e-03    BER: 2.000e-03\n",
            "loss: 1.202e-02    BER: 3.250e-03\n",
            "loss: 7.120e-03    BER: 2.250e-03\n",
            "\n",
            "Batch Size: 10000, Learning Rate: 0.0001, EbNodB: 10.0, Iterations: 1000\n",
            "loss: 7.998e-03    BER: 2.625e-03\n",
            "loss: 7.153e-03    BER: 2.575e-03\n",
            "loss: 7.854e-03    BER: 2.750e-03\n",
            "loss: 8.221e-03    BER: 2.225e-03\n",
            "loss: 6.836e-03    BER: 2.300e-03\n",
            "loss: 7.884e-03    BER: 2.600e-03\n",
            "loss: 7.192e-03    BER: 2.075e-03\n",
            "loss: 6.808e-03    BER: 2.300e-03\n",
            "loss: 7.267e-03    BER: 2.325e-03\n",
            "loss: 6.375e-03    BER: 2.225e-03\n",
            "\n",
            "Batch Size: 100000, Learning Rate: 0.0001, EbNodB: 10.0, Iterations: 1000\n",
            "loss: 6.833e-03    BER: 2.390e-03\n",
            "loss: 6.770e-03    BER: 2.265e-03\n",
            "loss: 6.441e-03    BER: 2.380e-03\n",
            "loss: 6.410e-03    BER: 2.217e-03\n",
            "loss: 6.457e-03    BER: 2.222e-03\n",
            "loss: 6.357e-03    BER: 2.147e-03\n",
            "loss: 6.290e-03    BER: 2.185e-03\n",
            "loss: 6.509e-03    BER: 2.160e-03\n",
            "loss: 6.133e-03    BER: 2.217e-03\n",
            "loss: 6.318e-03    BER: 2.125e-03\n"
          ],
          "name": "stdout"
        }
      ]
    },
    {
      "cell_type": "markdown",
      "metadata": {
        "id": "eFr7pAg_xzKz"
      },
      "source": [
        "Training vs Validation Loss Graph\n",
        "It is a standard practice to show training vs validation loss/accuracy graph to illustrate whether the learning-based model generalizes well or if it overfits/underfit. We will implement this and put it in our report"
      ]
    },
    {
      "cell_type": "code",
      "metadata": {
        "colab": {
          "base_uri": "https://localhost:8080/",
          "height": 505
        },
        "id": "SCEDcAcxJstF",
        "outputId": "09358bf0-caac-4abb-d24c-198e7b778346"
      },
      "source": [
        "plot_training_validation_loss(losses)"
      ],
      "execution_count": null,
      "outputs": [
        {
          "output_type": "display_data",
          "data": {
            "text/plain": [
              "<Figure size 720x576 with 1 Axes>"
            ],
            "image/png": "[encoded data removed]"
          },
          "metadata": {
            "tags": [],
            "needs_background": "light"
          }
        }
      ]
    },
    {
      "cell_type": "markdown",
      "metadata": {
        "id": "xceeNTgvljon"
      },
      "source": [
        "# Evaluation\n",
        "\n",
        "At first, let's have a look at the found constellation"
      ]
    },
    {
      "cell_type": "code",
      "metadata": {
        "colab": {
          "base_uri": "https://localhost:8080/",
          "height": 431
        },
        "id": "xMoE9Dt4bze1",
        "outputId": "f5ae4ec5-f62a-4ba1-9eaf-24d61e3845f1"
      },
      "source": [
        "plot_constellation(show_labels=True);"
      ],
      "execution_count": null,
      "outputs": [
        {
          "output_type": "display_data",
          "data": {
            "text/plain": [
              "<Figure size 432x432 with 1 Axes>"
            ],
            "image/png": "[encoded data removed]"
          },
          "metadata": {
            "tags": [],
            "needs_background": "light"
          }
        }
      ]
    },
    {
      "cell_type": "markdown",
      "metadata": {
        "id": "XSNNsSvylwxG"
      },
      "source": [
        "#### BER perfomance evaluation\n",
        "Here we compare the AE's BER performance with classical baselines.\n",
        "The baseline results are taken from our webdemo [Physical Layer Performance Measures - Symbol Error Rate, BER and Mutual Information](https://webdemo.inue.uni-stuttgart.de/webdemos/02_lectures/communication_3/performance_measures/)."
      ]
    },
    {
      "cell_type": "code",
      "metadata": {
        "colab": {
          "base_uri": "https://localhost:8080/",
          "height": 511
        },
        "id": "m3gwg_ixbze5",
        "outputId": "06b8ace9-67e9-4b71-bd67-f627c24533be"
      },
      "source": [
        "# reference curves\n",
        "ebnodbs_ref = np.linspace(-5,20,26)\n",
        "ber_ref_hard_n2 = np.array([[2.132e-01, 1.861e-01, 1.588e-01, 1.303e-01, 1.037e-01, 7.823e-02, 5.592e-02, 3.737e-02, 2.282e-02, 1.249e-02, 5.959e-03, 2.385e-03, 7.400e-04, 2.050e-04, 3.500e-05, 1.000e-06, 0.000e+00, 0.000e+00, 0.000e+00, 0.000e+00, 0.000e+00, 0.000e+00, 0.000e+00, 0.000e+00, 0.000e+00, 0.000e+00],[2.137e-01, 1.857e-01, 1.581e-01, 1.310e-01, 1.042e-01, 7.860e-02, 5.629e-02, 3.746e-02, 2.302e-02, 1.241e-02, 5.978e-03, 2.387e-03, 7.570e-04, 2.010e-04, 3.600e-05, 5.000e-06, 1.000e-06, 0.000e+00, 0.000e+00, 0.000e+00, 0.000e+00, 0.000e+00, 0.000e+00, 0.000e+00, 0.000e+00, 0.000e+00],[2.713e-01, 2.474e-01, 2.231e-01, 1.966e-01, 1.697e-01, 1.426e-01, 1.152e-01, 8.909e-02, 6.482e-02, 4.411e-02, 2.738e-02, 1.539e-02, 7.492e-03, 3.011e-03, 1.000e-03, 2.537e-04, 4.100e-05, 2.667e-06, 1.000e-06, 0.000e+00, 0.000e+00, 0.000e+00, 0.000e+00, 0.000e+00, 0.000e+00, 0.000e+00],[2.618e-01, 2.367e-01, 2.116e-01, 1.872e-01, 1.636e-01, 1.411e-01, 1.187e-01, 9.781e-02, 7.725e-02, 5.876e-02, 4.186e-02, 2.795e-02, 1.704e-02, 9.262e-03, 4.407e-03, 1.768e-03, 5.617e-04, 1.443e-04, 2.025e-05, 3.000e-06, 5.000e-07, 0.000e+00, 0.000e+00, 0.000e+00, 0.000e+00, 0.000e+00]])\n",
        "ber_ref_soft_n2 = np.array([[2.132e-01, 1.861e-01, 1.588e-01, 1.303e-01, 1.037e-01, 7.823e-02, 5.592e-02, 3.737e-02, 2.282e-02, 1.249e-02, 5.959e-03, 2.385e-03, 7.400e-04, 2.050e-04, 3.500e-05, 1.000e-06, 0.000e+00, 0.000e+00, 0.000e+00, 0.000e+00, 0.000e+00, 0.000e+00, 0.000e+00, 0.000e+00, 0.000e+00, 0.000e+00],[2.137e-01, 1.858e-01, 1.582e-01, 1.309e-01, 1.043e-01, 7.858e-02, 5.627e-02, 3.746e-02, 2.301e-02, 1.241e-02, 5.978e-03, 2.387e-03, 7.570e-04, 2.010e-04, 3.600e-05, 5.000e-06, 1.000e-06, 0.000e+00, 0.000e+00, 0.000e+00, 0.000e+00, 0.000e+00, 0.000e+00, 0.000e+00, 0.000e+00, 0.000e+00],[2.655e-01, 2.423e-01, 2.188e-01, 1.932e-01, 1.674e-01, 1.410e-01, 1.143e-01, 8.866e-02, 6.462e-02, 4.401e-02, 2.734e-02, 1.537e-02, 7.492e-03, 3.011e-03, 9.997e-04, 2.537e-04, 4.100e-05, 2.667e-06, 1.000e-06, 0.000e+00, 0.000e+00, 0.000e+00, 0.000e+00, 0.000e+00, 0.000e+00, 0.000e+00],[2.600e-01, 2.356e-01, 2.110e-01, 1.869e-01, 1.635e-01, 1.410e-01, 1.187e-01, 9.781e-02, 7.725e-02, 5.876e-02, 4.186e-02, 2.795e-02, 1.704e-02, 9.262e-03, 4.407e-03, 1.768e-03, 5.617e-04, 1.443e-04, 2.025e-05, 3.000e-06, 5.000e-07, 0.000e+00, 0.000e+00, 0.000e+00, 0.000e+00, 0.000e+00]])\n",
        "#ber_ref_theory_n2 = np.array([[2.132e-01, 1.861e-01, 1.584e-01, 1.306e-01, 1.038e-01, 7.865e-02, 5.628e-02, 3.751e-02, 2.288e-02, 1.250e-02, 5.954e-03, 2.388e-03, 7.727e-04, 1.909e-04, 3.363e-05, 3.872e-06, 2.613e-07, 9.006e-09, 1.333e-10, 6.810e-13, 9.124e-16, 2.267e-19, 6.759e-24, 1.396e-29, 1.001e-36, 1.044e-45],[2.132e-01, 1.861e-01, 1.584e-01, 1.306e-01, 1.038e-01, 7.865e-02, 5.628e-02, 3.751e-02, 2.288e-02, 1.250e-02, 5.954e-03, 2.388e-03, 7.727e-04, 1.909e-04, 3.363e-05, 3.872e-06, 2.613e-07, 9.006e-09, 1.333e-10, 6.810e-13, 9.124e-16, 2.267e-19, 6.759e-24, 1.396e-29, 1.001e-36, 1.044e-45],[3.491e-01, 3.162e-01, 2.814e-01, 2.452e-01, 2.081e-01, 1.712e-01, 1.355e-01, 1.023e-01, 7.282e-02, 4.821e-02, 2.917e-02, 1.578e-02, 7.423e-03, 2.931e-03, 9.298e-04, 2.241e-04, 3.827e-05, 4.239e-06, 2.724e-07, 8.827e-09, 1.209e-10, 5.603e-13, 6.640e-16, 1.414e-19, 3.470e-24, 5.611e-30],[3.075e-01, 2.863e-01, 2.633e-01, 2.387e-01, 2.127e-01, 1.855e-01, 1.578e-01, 1.301e-01, 1.032e-01, 7.816e-02, 5.586e-02, 3.716e-02, 2.262e-02, 1.233e-02, 5.854e-03, 2.339e-03, 7.529e-04, 1.849e-04, 3.231e-05, 3.684e-06, 2.456e-07, 8.334e-09, 1.210e-10, 6.030e-13, 7.832e-16, 1.872e-19]])\n",
        "\n",
        "# autoencoder simulations\n",
        "ebnodbs = np.linspace(-5,20,26)\n",
        "bers = ber_sim(ebnodbs, 100000, 10);\n",
        "plot_ber(ebnodbs, bers);\n",
        "\n",
        "plt.plot(ebnodbs_ref,ber_ref_hard_n2[k-1]);\n",
        "plt.plot(ebnodbs_ref,ber_ref_soft_n2[k-1],\"--\");\n",
        "#plt.plot(ebnodbs_ref,ber_ref_theory_n2[k-1],\"--\");\n",
        "\n",
        "plt.legend(['Autoencoder', '%d-QAM hard' % M,'%d-QAM soft' % M, 'closed-form approx.'], prop={'size': 16}, loc='upper right');"
      ],
      "execution_count": null,
      "outputs": [
        {
          "output_type": "display_data",
          "data": {
            "text/plain": [
              "<Figure size 720x576 with 1 Axes>"
            ],
            "image/png": "[encoded data removed]"
          },
          "metadata": {
            "tags": [],
            "needs_background": "light"
          }
        }
      ]
    },
    {
      "cell_type": "markdown",
      "metadata": {
        "id": "L3R2k_rdfPlV"
      },
      "source": [
        "Zoom in to the SNR region the AE was trained for:"
      ]
    },
    {
      "cell_type": "code",
      "metadata": {
        "id": "3BGO975pfPFt",
        "colab": {
          "base_uri": "https://localhost:8080/",
          "height": 505
        },
        "outputId": "d899cc66-ac96-4604-f0cf-bc45dfbfe569"
      },
      "source": [
        "# autoencoder simulations\n",
        "ebnodbs = np.linspace(-4,0,10)\n",
        "bers = ber_sim(ebnodbs, 100000, 10);\n",
        "plot_ber(ebnodbs, bers);\n",
        "\n",
        "plt.plot(ebnodbs_ref,ber_ref_hard_n2[k-1]);\n",
        "plt.plot(ebnodbs_ref,ber_ref_soft_n2[k-1],\"--\");\n",
        "#plt.plot(ebnodbs_ref,ber_ref_theory_n2[k-1],\"--\");\n",
        "\n",
        "plt.xlim([ebnodbs[0],ebnodbs[-1]])\n",
        "plt.ylim([0.1,0.5])\n",
        "plt.legend(['Autoencoder', '%d-QAM hard' % M,'%d-QAM soft' % M, 'closed-form approx.'], prop={'size': 16}, loc='upper right');"
      ],
      "execution_count": null,
      "outputs": [
        {
          "output_type": "display_data",
          "data": {
            "text/plain": [
              "<Figure size 720x576 with 1 Axes>"
            ],
            "image/png": "[encoded data removed]"
          },
          "metadata": {
            "tags": [],
            "needs_background": "light"
          }
        }
      ]
    },
    {
      "cell_type": "markdown",
      "metadata": {
        "id": "U-3I627AygK7"
      },
      "source": [
        "Illustrate that when trained with low EbNos, the model has diffculty learning the optimal constellation that generalizes well across a wide range of EbNos. We can interpret this as using inaccurate ground-truth labels in a supervised learning task, and the model is unable to learn the general relationship between the input and output."
      ]
    }
  ]
}