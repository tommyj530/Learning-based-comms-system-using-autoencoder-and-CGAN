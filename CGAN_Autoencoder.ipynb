{
  "nbformat": 4,
  "nbformat_minor": 0,
  "metadata": {
    "colab": {
      "name": "CGAN-Autoencoder.ipynb",
      "provenance": [],
      "collapsed_sections": [],
      "include_colab_link": true
    },
    "kernelspec": {
      "display_name": "Python 3",
      "name": "python3"
    },
    "language_info": {
      "name": "python"
    }
  },
  "cells": [
    {
      "cell_type": "markdown",
      "metadata": {
        "id": "view-in-github",
        "colab_type": "text"
      },
      "source": [
        "<a href=\"https://colab.research.google.com/github/tommyj530/Learning-based-comms-system-using-autoencoder-and-CGAN/blob/main/CGAN_Autoencoder.ipynb\" target=\"_parent\"><img src=\"https://colab.research.google.com/assets/colab-badge.svg\" alt=\"Open In Colab\"/></a>"
      ]
    },
    {
      "cell_type": "markdown",
      "metadata": {
        "id": "5R_ET5HdFk-t"
      },
      "source": [
        "# CGANAutoencoder-Based End-to-End Communications System\n",
        "ELEC825 Machine Learning and Deep Learning @ Queen's University Kingston, ON\n",
        "\n",
        "Author: Thomas Jung\n",
        "\n",
        "Date: March 27, 2021"
      ]
    },
    {
      "cell_type": "markdown",
      "metadata": {
        "id": "4Na0my1oFyyc"
      },
      "source": [
        "## CGAN for channel estimation\n",
        "Train a GAN to mimik any unknown channel function.\n",
        "Reference: https://wiseodd.github.io/techblog/2016/12/24/conditional-gan-tensorflow/ "
      ]
    },
    {
      "cell_type": "markdown",
      "metadata": {
        "id": "x9NDoZvfGUM1"
      },
      "source": [
        "### Setup"
      ]
    },
    {
      "cell_type": "markdown",
      "metadata": {
        "id": "7WHh1emtEIp7"
      },
      "source": [
        "#### Import libraries"
      ]
    },
    {
      "cell_type": "code",
      "metadata": {
        "id": "nAaVfw28D6PQ"
      },
      "source": [
        "import glob\n",
        "import imageio\n",
        "import numpy as np\n",
        "%matplotlib inline\n",
        "import matplotlib.pyplot as plt   \n",
        "import tensorflow as tf\n",
        "from tensorflow import keras\n",
        "from tensorflow.keras import layers\n",
        "import os\n",
        "os.environ[\"CUDA_VISIBLE_DEVICES\"] = \"1\" # Ignore if you do not have multiple GPUs\n",
        "\n",
        "import time \n",
        "from IPython import display"
      ],
      "execution_count": null,
      "outputs": []
    },
    {
      "cell_type": "code",
      "metadata": {
        "colab": {
          "base_uri": "https://localhost:8080/"
        },
        "id": "reSynz9pEMWu",
        "outputId": "bc08a0fa-fa58-4019-93f8-822fb86c716b"
      },
      "source": [
        "print(tf.__version__)"
      ],
      "execution_count": null,
      "outputs": [
        {
          "output_type": "stream",
          "text": [
            "2.4.1\n"
          ],
          "name": "stdout"
        }
      ]
    },
    {
      "cell_type": "markdown",
      "metadata": {
        "id": "xKSC2MgWENpd"
      },
      "source": [
        "#### System parameters"
      ]
    },
    {
      "cell_type": "code",
      "metadata": {
        "id": "eI3kU12pEOvv"
      },
      "source": [
        "k = 4       # Number of information bits per message, i.e., M=2**k\n",
        "n = 2      # Number of real channel uses per message"
      ],
      "execution_count": null,
      "outputs": []
    },
    {
      "cell_type": "code",
      "metadata": {
        "id": "Ujst9K5nETrV"
      },
      "source": [
        "def EbNo2Sigma(ebnodb):\n",
        "    '''Convert Eb/No in dB to noise standard deviation'''\n",
        "    ebno = 10**(ebnodb/10)\n",
        "    return 1/np.sqrt(2*(2*k/n)*ebno)"
      ],
      "execution_count": null,
      "outputs": []
    },
    {
      "cell_type": "code",
      "metadata": {
        "id": "vPS8QQSFEVBx"
      },
      "source": [
        "train_SNR_dB = 15 \n",
        "batch_size = 16\n",
        "noise_std = EbNo2Sigma(train_SNR_dB) # should be able to vary this based on SNR\n",
        "\n",
        "#number of neurons per layer in discriminator and generator\n",
        "G_nb_weights = 46 #46 with 3 layers will give 4648 trainable params for the genorator, the VAE has 4614\n",
        "D_nb_weights = 32 "
      ],
      "execution_count": null,
      "outputs": []
    },
    {
      "cell_type": "markdown",
      "metadata": {
        "id": "Z7Xu7uZgGdAb"
      },
      "source": [
        "### Define Generator and Discriminator"
      ]
    },
    {
      "cell_type": "markdown",
      "metadata": {
        "id": "MOxX_5OrEWyJ"
      },
      "source": [
        "#### Generator"
      ]
    },
    {
      "cell_type": "code",
      "metadata": {
        "colab": {
          "base_uri": "https://localhost:8080/"
        },
        "id": "o8llKvUTEXwt",
        "outputId": "1eebef3d-5934-46b2-ca79-f88321eeddbd"
      },
      "source": [
        "# Concatenate z and y\n",
        "G_input = tf.keras.Input(shape=(n,), dtype=tf.float32, name='gen_in') \n",
        "G_n = tf.random.normal([tf.shape(G_input)[0],n],dtype=tf.float32)\n",
        "input = tf.concat(values=[G_input, G_n], axis=1)\n",
        "x = tf.keras.layers.Dense(G_nb_weights,activation=\"relu\")(input)\n",
        "#x = tf.keras.layers.Dropout(0.3)(x)\n",
        "x = tf.keras.layers.Dense(G_nb_weights,activation=\"relu\")(x)\n",
        "x = tf.keras.layers.Dense(G_nb_weights,activation=\"relu\")(x)\n",
        "x = tf.keras.layers.Dense(n,activation=None)(x)\n",
        "G_output = x\n",
        "generator = tf.keras.Model(G_input, G_output, name='generator')\n",
        "generator.summary()"
      ],
      "execution_count": null,
      "outputs": [
        {
          "output_type": "stream",
          "text": [
            "Model: \"generator\"\n",
            "__________________________________________________________________________________________________\n",
            "Layer (type)                    Output Shape         Param #     Connected to                     \n",
            "==================================================================================================\n",
            "gen_in (InputLayer)             [(None, 2)]          0                                            \n",
            "__________________________________________________________________________________________________\n",
            "tf.compat.v1.shape (TFOpLambda) (2,)                 0           gen_in[0][0]                     \n",
            "__________________________________________________________________________________________________\n",
            "tf.__operators__.getitem (Slici ()                   0           tf.compat.v1.shape[0][0]         \n",
            "__________________________________________________________________________________________________\n",
            "tf.random.normal (TFOpLambda)   (None, 2)            0           tf.__operators__.getitem[0][0]   \n",
            "__________________________________________________________________________________________________\n",
            "tf.concat (TFOpLambda)          (None, 4)            0           gen_in[0][0]                     \n",
            "                                                                 tf.random.normal[0][0]           \n",
            "__________________________________________________________________________________________________\n",
            "dense (Dense)                   (None, 46)           230         tf.concat[0][0]                  \n",
            "__________________________________________________________________________________________________\n",
            "dense_1 (Dense)                 (None, 46)           2162        dense[0][0]                      \n",
            "__________________________________________________________________________________________________\n",
            "dense_2 (Dense)                 (None, 46)           2162        dense_1[0][0]                    \n",
            "__________________________________________________________________________________________________\n",
            "dense_3 (Dense)                 (None, 2)            94          dense_2[0][0]                    \n",
            "==================================================================================================\n",
            "Total params: 4,648\n",
            "Trainable params: 4,648\n",
            "Non-trainable params: 0\n",
            "__________________________________________________________________________________________________\n"
          ],
          "name": "stdout"
        }
      ]
    },
    {
      "cell_type": "markdown",
      "metadata": {
        "id": "QmoMYJg7EZZg"
      },
      "source": [
        "#### Discriminator\n",
        "*  D(y,x)\n",
        "*   y_fake = generator(x)\n",
        "*   y_real = real_channel(x)\n",
        "\n",
        "In our experiment, we use a stochastic channel model to generate y_real, but in practice, we would be taking measurements of the distorted signals and use them as a conditioning paramter for the GAN."
      ]
    },
    {
      "cell_type": "code",
      "metadata": {
        "colab": {
          "base_uri": "https://localhost:8080/"
        },
        "id": "l2_wOhjYEajp",
        "outputId": "0f9fccbd-f839-415a-f231-ea2fa9dd9e0e"
      },
      "source": [
        "# Concatenate x and y\n",
        "D_input_y = tf.keras.Input(shape=(n,), dtype=tf.float32, name='D_in_y')\n",
        "D_input_x = tf.keras.Input(shape=(n,), dtype=tf.float32, name='D_in_x')\n",
        "input = tf.concat(values=[D_input_y, D_input_x], axis=1)\n",
        "x = tf.keras.layers.Dense(D_nb_weights,activation=\"relu\")(input)\n",
        "#x = tf.keras.layers.Dropout(0.3)(x)\n",
        "x = tf.keras.layers.Dense(D_nb_weights,activation=None)(x)\n",
        "x = tf.keras.layers.Dense(1,activation=None)(x)\n",
        "x = tf.keras.activations.sigmoid(x)\n",
        "D_output = x\n",
        "discriminator = tf.keras.Model([D_input_y, D_input_x], D_output, name='discriminator')\n",
        "discriminator.summary()"
      ],
      "execution_count": null,
      "outputs": [
        {
          "output_type": "stream",
          "text": [
            "Model: \"discriminator\"\n",
            "__________________________________________________________________________________________________\n",
            "Layer (type)                    Output Shape         Param #     Connected to                     \n",
            "==================================================================================================\n",
            "D_in_y (InputLayer)             [(None, 2)]          0                                            \n",
            "__________________________________________________________________________________________________\n",
            "D_in_x (InputLayer)             [(None, 2)]          0                                            \n",
            "__________________________________________________________________________________________________\n",
            "tf.concat_1 (TFOpLambda)        (None, 4)            0           D_in_y[0][0]                     \n",
            "                                                                 D_in_x[0][0]                     \n",
            "__________________________________________________________________________________________________\n",
            "dense_4 (Dense)                 (None, 32)           160         tf.concat_1[0][0]                \n",
            "__________________________________________________________________________________________________\n",
            "dense_5 (Dense)                 (None, 32)           1056        dense_4[0][0]                    \n",
            "__________________________________________________________________________________________________\n",
            "dense_6 (Dense)                 (None, 1)            33          dense_5[0][0]                    \n",
            "__________________________________________________________________________________________________\n",
            "tf.math.sigmoid (TFOpLambda)    (None, 1)            0           dense_6[0][0]                    \n",
            "==================================================================================================\n",
            "Total params: 1,249\n",
            "Trainable params: 1,249\n",
            "Non-trainable params: 0\n",
            "__________________________________________________________________________________________________\n"
          ],
          "name": "stdout"
        }
      ]
    },
    {
      "cell_type": "markdown",
      "metadata": {
        "id": "LO_3Uib4Gjgg"
      },
      "source": [
        "#### Test Generator and Discriminator"
      ]
    },
    {
      "cell_type": "code",
      "metadata": {
        "id": "noAW6CicEftS"
      },
      "source": [
        "x = tf.random.normal((batch_size,n))    #randomly sample input data (\"fake\" AE messages)\n",
        "#x = x/tf.sqrt(2*tf.reduce_mean(tf.square(x))) #Average power normalization (not required if standard normal distribution is used )\n",
        "generated_signal = generator(x, training=False)\n",
        "decision = discriminator([generated_signal,x])\n",
        "#print(decision)"
      ],
      "execution_count": null,
      "outputs": []
    },
    {
      "cell_type": "markdown",
      "metadata": {
        "id": "r_DqHOneF7Yk"
      },
      "source": [
        "### Defin training Parameters"
      ]
    },
    {
      "cell_type": "markdown",
      "metadata": {
        "id": "wX42HaMRG09T"
      },
      "source": [
        "#### Define real channel"
      ]
    },
    {
      "cell_type": "markdown",
      "metadata": {
        "id": "B3GehAc_5XHm"
      },
      "source": [
        "Rayleigh distribution\n",
        "![Screenshot from 2021-03-28 18-05-50.png](data:image/png;base64,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)\n"
      ]
    },
    {
      "cell_type": "markdown",
      "metadata": {
        "id": "iAUO2zSM4enq"
      },
      "source": [
        "![Screenshot from 2021-03-28 18-11-07.png](data:image/png;base64,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)"
      ]
    },
    {
      "cell_type": "markdown",
      "metadata": {
        "id": "5aHyNVUF4XDf"
      },
      "source": [
        "Rician distribution![Screenshot from 2021-03-28 18-14-03.png](data:image/png;base64,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)"
      ]
    },
    {
      "cell_type": "code",
      "metadata": {
        "id": "BBUdZpAr15yo"
      },
      "source": [
        "# # Use a relatively high variance to see the difference between AWGN and Rayleigh\n",
        "# noise_std = 2"
      ],
      "execution_count": null,
      "outputs": []
    },
    {
      "cell_type": "code",
      "metadata": {
        "id": "BkIqvlkfEgla"
      },
      "source": [
        "def real_channel(x):\n",
        "    # Black-box Channel\n",
        "    #AWGN\n",
        "    #return x + tf.random.normal(tf.shape(x), mean=0.0, stddev=noise_std)\n",
        "    return x + tf.random.normal(shape=tf.shape(x)) * tf.cast(noise_std,dtype=tf.float32)\n",
        "\n",
        "    #Rayleigh\n",
        "    #return x + tf.sqrt(tf.square(tf.random.normal(tf.shape(x), mean=0.0, stddev=noise_std)) + tf.square(tf.random.normal(tf.shape(x), mean=0.0, stddev=noise_std)))\n",
        "    \n",
        "    #Uniform U(-3;3)    \n",
        "    #return x + tf.random.uniform(tf.shape(x), minval=-3, maxval=3)"
      ],
      "execution_count": null,
      "outputs": []
    },
    {
      "cell_type": "markdown",
      "metadata": {
        "id": "-EelR-HS1SW2"
      },
      "source": [
        "##### Visualize channel pdf"
      ]
    },
    {
      "cell_type": "code",
      "metadata": {
        "id": "O46EJeB81YZv"
      },
      "source": [
        "def visualize_cpdf():\n",
        "  #parameters\n",
        "  hist_range = 3\n",
        "  for i in range(5000):\n",
        "    hist_range = 3\n",
        "    rv_simple = tf.random.normal([batch_size, n])\n",
        "    if i == 0:\n",
        "      y_real = np.array(real_channel(rv_simple))\n",
        "      y_real = y_real.squeeze().tolist()\n",
        "    else:\n",
        "      temp = np.array(real_channel(rv_simple))\n",
        "      temp = temp.squeeze().tolist()\n",
        "      y_real = np.append(y_real,temp)\n",
        "\n",
        "  #and plot results  \n",
        "  plt.hist(y_real,bins=100,range=(-hist_range,hist_range),density=True,histtype='step') \n",
        "  plt.title(\"channel distribution\")\n",
        "  plt.legend([\"target\"])\n",
        "  plt.show()"
      ],
      "execution_count": null,
      "outputs": []
    },
    {
      "cell_type": "code",
      "metadata": {
        "colab": {
          "base_uri": "https://localhost:8080/",
          "height": 281
        },
        "id": "J8PDQwxj1oQi",
        "outputId": "c50a4930-5cb8-49c8-d402-c3b3c0085712"
      },
      "source": [
        "visualize_cpdf()"
      ],
      "execution_count": null,
      "outputs": [
        {
          "output_type": "display_data",
          "data": {
            "image/png": "[encoded data removed]",
            "text/plain": [
              "<Figure size 432x288 with 1 Axes>"
            ]
          },
          "metadata": {
            "tags": []
          }
        }
      ]
    },
    {
      "cell_type": "markdown",
      "metadata": {
        "id": "DFbh-owsG6lQ"
      },
      "source": [
        "#### Define loss for G and D"
      ]
    },
    {
      "cell_type": "code",
      "metadata": {
        "id": "qqN_bjl_EhkW"
      },
      "source": [
        "# This method returns a helper function to compute cross entropy loss\n",
        "cross_entropy = tf.keras.losses.BinaryCrossentropy(from_logits=True)"
      ],
      "execution_count": null,
      "outputs": []
    },
    {
      "cell_type": "code",
      "metadata": {
        "id": "3y0gWYeSEieS"
      },
      "source": [
        "def discriminator_loss(real_output, fake_output):\n",
        "    total_loss = -tf.reduce_mean(tf.math.log(real_output) + tf.math.log(1. - fake_output))\n",
        "    # real_loss = cross_entropy(tf.ones_like(real_output), real_output)\n",
        "    # fake_loss = cross_entropy(tf.zeros_like(fake_output), fake_output)\n",
        "    # total_loss = real_loss + fake_loss\n",
        "    return total_loss\n",
        "\n",
        "#     D_loss = -tf.reduce_mean(tf.log(D_real) + tf.log(1. - D_fake))   #use \"-\" sign to minimize rather than maximize loss\n",
        "#     G_loss = -tf.reduce_mean(tf.log(D_fake))"
      ],
      "execution_count": null,
      "outputs": []
    },
    {
      "cell_type": "code",
      "metadata": {
        "id": "b4HDgZ4fEjfa"
      },
      "source": [
        "def generator_loss(fake_output):\n",
        "    return  -tf.reduce_mean(tf.math.log(fake_output))"
      ],
      "execution_count": null,
      "outputs": []
    },
    {
      "cell_type": "markdown",
      "metadata": {
        "id": "Vrf5RbzOHAlR"
      },
      "source": [
        "#### Define optimizer for G and D\n",
        "\n",
        "RMS prop works the best. Adam optimizer does not work for unknown reasons.\n"
      ]
    },
    {
      "cell_type": "code",
      "metadata": {
        "id": "qTjyDgCzEkTI"
      },
      "source": [
        "generator_optimizer = tf.keras.optimizers.RMSprop(1e-4)\n",
        "discriminator_optimizer = tf.keras.optimizers.RMSprop(1e-4)"
      ],
      "execution_count": null,
      "outputs": []
    },
    {
      "cell_type": "markdown",
      "metadata": {
        "id": "X0_AJJveHI9l"
      },
      "source": [
        "### Training"
      ]
    },
    {
      "cell_type": "code",
      "metadata": {
        "id": "cNx8TbvlEk_r"
      },
      "source": [
        "EPOCHS = 20\n",
        "noise_dim = n "
      ],
      "execution_count": null,
      "outputs": []
    },
    {
      "cell_type": "markdown",
      "metadata": {
        "id": "bOqBCxmxHMKx"
      },
      "source": [
        "#### Train function\n",
        "Alternates between training the generator and discriminator while keeping the adversary's weights constant."
      ]
    },
    {
      "cell_type": "code",
      "metadata": {
        "id": "sDrNqstzEmD-"
      },
      "source": [
        "# Notice the use of `tf.function`\n",
        "# This annotation causes the function to be \"compiled\".\n",
        "@tf.function\n",
        "def train_step():\n",
        "  rv_simple = tf.random.normal([batch_size, noise_dim])\n",
        "  #rv_simple = x/tf.sqrt(2*tf.reduce_mean(tf.square(rv_simple)))\n",
        "\n",
        "  with tf.GradientTape() as gen_tape, tf.GradientTape() as disc_tape:\n",
        "    y_fake = generator(rv_simple, training=True)\n",
        "    y_real = real_channel(rv_simple)\n",
        "\n",
        "    real_output = discriminator([y_real,rv_simple], training=True)\n",
        "    fake_output = discriminator([y_fake,rv_simple], training=True)\n",
        "\n",
        "    gen_loss = generator_loss(fake_output)\n",
        "    disc_loss = discriminator_loss(real_output, fake_output)\n",
        "\n",
        "  gradients_of_generator = gen_tape.gradient(gen_loss, generator.trainable_variables)\n",
        "  gradients_of_discriminator = disc_tape.gradient(disc_loss, discriminator.trainable_variables)\n",
        "\n",
        "  generator_optimizer.apply_gradients(zip(gradients_of_generator, generator.trainable_variables))\n",
        "  discriminator_optimizer.apply_gradients(zip(gradients_of_discriminator, discriminator.trainable_variables))\n",
        "\n",
        "  return gen_loss, disc_loss"
      ],
      "execution_count": null,
      "outputs": []
    },
    {
      "cell_type": "markdown",
      "metadata": {
        "id": "apaV6zoJHXMl"
      },
      "source": [
        "#### Test function\n",
        "Tests the generator by plotting a histogram of its probability distribution and comparing it to that of the real channel"
      ]
    },
    {
      "cell_type": "code",
      "metadata": {
        "id": "IIbOJAgUwqx8"
      },
      "source": [
        "#tensorflow version of kl divergence\n",
        "def kl_divergence_tf(p, q):\n",
        "    #use \"Laplace correction\" w to avoid zero and inf\n",
        "    w = 1e-5\n",
        "    p = p + w\n",
        "    q = q + w\n",
        "    return tf.reduce_sum(p * tf.math.log(p / q))"
      ],
      "execution_count": null,
      "outputs": []
    },
    {
      "cell_type": "code",
      "metadata": {
        "id": "lJNeOs2KEnbt"
      },
      "source": [
        "def test_step():\n",
        "  #parameters\n",
        "  hist_range = 3\n",
        "  for i in range(1000):\n",
        "    hist_range = 3\n",
        "    rv_simple = tf.random.normal([batch_size, noise_dim])\n",
        "    if i == 0:\n",
        "      y_fake = np.array(generator(rv_simple))\n",
        "      y_fake = y_fake.squeeze().tolist()\n",
        "      y_real = np.array(real_channel(rv_simple))\n",
        "      y_real = y_real.squeeze().tolist()\n",
        "    else:\n",
        "      temp = np.array(generator(rv_simple))\n",
        "      temp = temp.squeeze().tolist()\n",
        "      y_fake = np.append(y_fake,temp)\n",
        "      temp = np.array(real_channel(rv_simple))\n",
        "      temp = temp.squeeze().tolist()\n",
        "      y_real = np.append(y_real,temp)\n",
        "\n",
        "  #and plot results  \n",
        "  plt.hist(y_fake,bins=100,range=(-hist_range,hist_range),density=True,histtype='step')   \n",
        "  plt.hist(y_real,bins=100,range=(-hist_range,hist_range),density=True,histtype='step') \n",
        "  plt.title(\"channel distribution\")\n",
        "  plt.legend([\"generator\", \"target\"])\n",
        "  plt.show()"
      ],
      "execution_count": null,
      "outputs": []
    },
    {
      "cell_type": "code",
      "metadata": {
        "id": "cHJRc_lPyoDa"
      },
      "source": [
        "def KL():\n",
        "  #parameters\n",
        "  hist_range = 3\n",
        "  for i in range(1000):\n",
        "    hist_range = 3\n",
        "    rv_simple = tf.random.normal([batch_size, noise_dim])\n",
        "    if i == 0:\n",
        "      y_fake = np.array(generator(rv_simple))\n",
        "      y_fake = y_fake.squeeze().tolist()\n",
        "      y_real = np.array(real_channel(rv_simple))\n",
        "      y_real = y_real.squeeze().tolist()\n",
        "    else:\n",
        "      temp = np.array(generator(rv_simple))\n",
        "      temp = temp.squeeze().tolist()\n",
        "      y_fake = np.append(y_fake,temp)\n",
        "      temp = np.array(real_channel(rv_simple))\n",
        "      temp = temp.squeeze().tolist()\n",
        "      y_real = np.append(y_real,temp)\n",
        "\n",
        "  # #fake noise \n",
        "  # y_p=tf.reshape(y_fake-rv_simple,(-1,))\n",
        "  # #real noise\n",
        "  # y_q=tf.reshape(y_real-rv_simple,(-1,))\n",
        "\n",
        "  #histograms of noise vectors\n",
        "  p = tf.histogram_fixed_width(y_real,value_range=tf.constant([-hist_range, hist_range], dtype=tf.float32),nbins=100)\n",
        "  q = tf.histogram_fixed_width(y_fake,value_range=tf.constant([-hist_range, hist_range], dtype=tf.float32),nbins=100)\n",
        "  \n",
        "  #pmf\n",
        "  p=p/tf.reduce_sum(p)\n",
        "  q=q/tf.reduce_sum(q)\n",
        "  kl_div=kl_divergence_tf(p,q)\n",
        "\n",
        "  return kl_div"
      ],
      "execution_count": null,
      "outputs": []
    },
    {
      "cell_type": "code",
      "metadata": {
        "id": "d0UrPReIEo0k"
      },
      "source": [
        "checkpoint_dir = 'Desktop/checkpoint'\n",
        "#checkpoint_prefix = os.path.join(checkpoint_dir, \"ckpt\")\n",
        "checkpoint = tf.train.Checkpoint(generator_optimizer=generator_optimizer,\n",
        "                                 discriminator_optimizer=discriminator_optimizer,\n",
        "                                 generator=generator,\n",
        "                                 discriminator=discriminator)"
      ],
      "execution_count": null,
      "outputs": []
    },
    {
      "cell_type": "markdown",
      "metadata": {
        "id": "RF-61IB-H69I"
      },
      "source": [
        "#### Train"
      ]
    },
    {
      "cell_type": "markdown",
      "metadata": {
        "id": "Qrzf3D0LBMEM"
      },
      "source": [
        "#### Load the checkpoint from previous training to speed up training process\n",
        "We can do this for the following reasons: \n",
        "*   A real channel varies slowly in time and as a result, the channel pdfs between the two nearby time instants are highly correlated and we can leverage the concept of transfer learning to speed up the training process. \n",
        "*   The channels in nearby frequencies are also highly correlated. For an OFDM system, we can train the CGAN for one subcarrier and use the saved model as an initilizaton for the subsequent subcarriers to speed up the training process. \n",
        "\n"
      ]
    },
    {
      "cell_type": "code",
      "metadata": {
        "id": "Kumg8_rxEp6T"
      },
      "source": [
        "def train(epochs):\n",
        "  gen_loss_prior = 0\n",
        "  loss_best = 10\n",
        "  count = 0\n",
        "  for epoch in range(epochs):\n",
        "    start = time.time()\n",
        "    for i in range(1000):\n",
        "      gen_loss, disc_loss = train_step()\n",
        "\n",
        "    if (gen_loss+disc_loss) < loss_best:\n",
        "      loss_best = gen_loss+disc_loss\n",
        "      generator.save(\"Desktop/my_generator\")  \n",
        "\n",
        "    if epoch%2==0:\n",
        "      test_step()\n",
        "\n",
        "\n",
        "    print ('Time for epoch {} is {} sec'.format(epoch + 1, time.time()-start))\n",
        "    print('G Loss is {} and D loss is {}'.format(gen_loss, disc_loss))\n",
        "    print('-----------------------------------------------------------------')\n",
        "    \n",
        "    # Early stopping mechanism \n",
        "    # if abs(gen_loss-gen_loss_prior)<0.01:\n",
        "    #   count = count + 1\n",
        "    # gen_loss_prior = gen_loss\n",
        "\n",
        "    # if count > 5: \n",
        "    #   print ('Early stoppage at epoch {}'.format(epoch))\n",
        "    #   break\n",
        "\n",
        "  # Save the model at the end \n",
        "  # Used to reduce the training time by leveraging the channel locality \n",
        "  # and transfer learning\n",
        "  #checkpoint.save('Desktop/checkpoint')\n"
      ],
      "execution_count": null,
      "outputs": []
    },
    {
      "cell_type": "code",
      "metadata": {
        "colab": {
          "base_uri": "https://localhost:8080/",
          "height": 1000
        },
        "id": "yBrA7IOEErUX",
        "outputId": "79bb3b90-99c4-4853-a74d-9a5fad923e77"
      },
      "source": [
        "train(EPOCHS)"
      ],
      "execution_count": null,
      "outputs": [
        {
          "output_type": "stream",
          "text": [
            "INFO:tensorflow:Assets written to: Desktop/my_generator/assets\n"
          ],
          "name": "stdout"
        },
        {
          "output_type": "display_data",
          "data": {
            "image/png": "[encoded data removed]",
            "text/plain": [
              "<Figure size 432x288 with 1 Axes>"
            ]
          },
          "metadata": {
            "tags": []
          }
        },
        {
          "output_type": "stream",
          "text": [
            "Time for epoch 1 is 6.2588067054748535 sec\n",
            "G Loss is 0.659111738204956 and D loss is 1.3920137882232666\n",
            "-----------------------------------------------------------------\n",
            "Time for epoch 2 is 0.817354679107666 sec\n",
            "G Loss is 0.6955204010009766 and D loss is 1.3848352432250977\n",
            "-----------------------------------------------------------------\n"
          ],
          "name": "stdout"
        },
        {
          "output_type": "display_data",
          "data": {
            "image/png": "[encoded data removed]",
            "text/plain": [
              "<Figure size 432x288 with 1 Axes>"
            ]
          },
          "metadata": {
            "tags": []
          }
        },
        {
          "output_type": "stream",
          "text": [
            "Time for epoch 3 is 3.561998128890991 sec\n",
            "G Loss is 0.6896801590919495 and D loss is 1.386735439300537\n",
            "-----------------------------------------------------------------\n",
            "Time for epoch 4 is 0.7415425777435303 sec\n",
            "G Loss is 0.694636344909668 and D loss is 1.3867366313934326\n",
            "-----------------------------------------------------------------\n"
          ],
          "name": "stdout"
        },
        {
          "output_type": "display_data",
          "data": {
            "image/png": "[encoded data removed]",
            "text/plain": [
              "<Figure size 432x288 with 1 Axes>"
            ]
          },
          "metadata": {
            "tags": []
          }
        },
        {
          "output_type": "stream",
          "text": [
            "Time for epoch 5 is 3.5929956436157227 sec\n",
            "G Loss is 0.6926207542419434 and D loss is 1.385581612586975\n",
            "-----------------------------------------------------------------\n",
            "Time for epoch 6 is 0.7339653968811035 sec\n",
            "G Loss is 0.6911943554878235 and D loss is 1.3868317604064941\n",
            "-----------------------------------------------------------------\n"
          ],
          "name": "stdout"
        },
        {
          "output_type": "display_data",
          "data": {
            "image/png": "[encoded data removed]",
            "text/plain": [
              "<Figure size 432x288 with 1 Axes>"
            ]
          },
          "metadata": {
            "tags": []
          }
        },
        {
          "output_type": "stream",
          "text": [
            "Time for epoch 7 is 3.582313060760498 sec\n",
            "G Loss is 0.6929102540016174 and D loss is 1.3869423866271973\n",
            "-----------------------------------------------------------------\n",
            "Time for epoch 8 is 0.7369437217712402 sec\n",
            "G Loss is 0.6910494565963745 and D loss is 1.3871557712554932\n",
            "-----------------------------------------------------------------\n"
          ],
          "name": "stdout"
        },
        {
          "output_type": "display_data",
          "data": {
            "image/png": "[encoded data removed]",
            "text/plain": [
              "<Figure size 432x288 with 1 Axes>"
            ]
          },
          "metadata": {
            "tags": []
          }
        },
        {
          "output_type": "stream",
          "text": [
            "Time for epoch 9 is 3.6228830814361572 sec\n",
            "G Loss is 0.6922830939292908 and D loss is 1.386846899986267\n",
            "-----------------------------------------------------------------\n",
            "Time for epoch 10 is 0.7348620891571045 sec\n",
            "G Loss is 0.6880411505699158 and D loss is 1.3862617015838623\n",
            "-----------------------------------------------------------------\n"
          ],
          "name": "stdout"
        },
        {
          "output_type": "display_data",
          "data": {
            "image/png": "[encoded data removed]",
            "text/plain": [
              "<Figure size 432x288 with 1 Axes>"
            ]
          },
          "metadata": {
            "tags": []
          }
        },
        {
          "output_type": "stream",
          "text": [
            "Time for epoch 11 is 3.460383653640747 sec\n",
            "G Loss is 0.6944283246994019 and D loss is 1.3866019248962402\n",
            "-----------------------------------------------------------------\n",
            "Time for epoch 12 is 0.734715461730957 sec\n",
            "G Loss is 0.6907040476799011 and D loss is 1.386576771736145\n",
            "-----------------------------------------------------------------\n"
          ],
          "name": "stdout"
        },
        {
          "output_type": "display_data",
          "data": {
            "image/png": "[encoded data removed]",
            "text/plain": [
              "<Figure size 432x288 with 1 Axes>"
            ]
          },
          "metadata": {
            "tags": []
          }
        },
        {
          "output_type": "stream",
          "text": [
            "Time for epoch 13 is 3.4148285388946533 sec\n",
            "G Loss is 0.6889561414718628 and D loss is 1.3871986865997314\n",
            "-----------------------------------------------------------------\n",
            "Time for epoch 14 is 0.7168943881988525 sec\n",
            "G Loss is 0.6923912763595581 and D loss is 1.38688063621521\n",
            "-----------------------------------------------------------------\n"
          ],
          "name": "stdout"
        },
        {
          "output_type": "display_data",
          "data": {
            "image/png": "[encoded data removed]",
            "text/plain": [
              "<Figure size 432x288 with 1 Axes>"
            ]
          },
          "metadata": {
            "tags": []
          }
        },
        {
          "output_type": "stream",
          "text": [
            "Time for epoch 15 is 3.5392940044403076 sec\n",
            "G Loss is 0.6925246715545654 and D loss is 1.3864318132400513\n",
            "-----------------------------------------------------------------\n",
            "Time for epoch 16 is 0.7217435836791992 sec\n",
            "G Loss is 0.6920756101608276 and D loss is 1.3863160610198975\n",
            "-----------------------------------------------------------------\n"
          ],
          "name": "stdout"
        },
        {
          "output_type": "display_data",
          "data": {
            "image/png": "[encoded data removed]",
            "text/plain": [
              "<Figure size 432x288 with 1 Axes>"
            ]
          },
          "metadata": {
            "tags": []
          }
        },
        {
          "output_type": "stream",
          "text": [
            "Time for epoch 17 is 3.534181594848633 sec\n",
            "G Loss is 0.695151686668396 and D loss is 1.3863943815231323\n",
            "-----------------------------------------------------------------\n",
            "Time for epoch 18 is 0.7391421794891357 sec\n",
            "G Loss is 0.6930484175682068 and D loss is 1.3866204023361206\n",
            "-----------------------------------------------------------------\n"
          ],
          "name": "stdout"
        },
        {
          "output_type": "display_data",
          "data": {
            "image/png": "[encoded data removed]",
            "text/plain": [
              "<Figure size 432x288 with 1 Axes>"
            ]
          },
          "metadata": {
            "tags": []
          }
        },
        {
          "output_type": "stream",
          "text": [
            "Time for epoch 19 is 3.6354410648345947 sec\n",
            "G Loss is 0.693551242351532 and D loss is 1.3867740631103516\n",
            "-----------------------------------------------------------------\n",
            "Time for epoch 20 is 0.8035211563110352 sec\n",
            "G Loss is 0.6975157260894775 and D loss is 1.386509656906128\n",
            "-----------------------------------------------------------------\n"
          ],
          "name": "stdout"
        }
      ]
    },
    {
      "cell_type": "code",
      "metadata": {
        "colab": {
          "base_uri": "https://localhost:8080/"
        },
        "id": "-TmeZTy4ojCk",
        "outputId": "c6b4bd59-f377-4d17-ef2d-693d445a836a"
      },
      "source": [
        "# It can be used to reconstruct the model identically.\n",
        "# generator = keras.models.load_model(\"Desktop/my_generator\", compile='False')\n",
        "# test_step()\n",
        "kl_div_metric = KL()\n",
        "print('KL Div Metric: {}'.format(kl_div_metric ))"
      ],
      "execution_count": null,
      "outputs": [
        {
          "output_type": "stream",
          "text": [
            "KL Div Metric: 0.002450334804828323\n"
          ],
          "name": "stdout"
        }
      ]
    },
    {
      "cell_type": "markdown",
      "metadata": {
        "id": "tgTcaE4EIHgr"
      },
      "source": [
        "## Autoencoder over the AWGN channel (estimated with CGAN)\n",
        "We can train over Rayleigh or Rician if more appropriate "
      ]
    },
    {
      "cell_type": "markdown",
      "metadata": {
        "id": "kKVIPBtRIXfQ"
      },
      "source": [
        "### Autoencoder parameters"
      ]
    },
    {
      "cell_type": "code",
      "metadata": {
        "id": "c1KUahXaImRS"
      },
      "source": [
        "k = 4                               # bit per autoencoder message\n",
        "M = 2**k                            # total nb of autoencoder messages\n",
        "n = 2        "
      ],
      "execution_count": null,
      "outputs": []
    },
    {
      "cell_type": "markdown",
      "metadata": {
        "id": "p18ksjtIIaWr"
      },
      "source": [
        "### The Encoder / Transmitter"
      ]
    },
    {
      "cell_type": "code",
      "metadata": {
        "colab": {
          "base_uri": "https://localhost:8080/"
        },
        "id": "Cn2ri3fcInsd",
        "outputId": "eb20d482-07b0-4922-e887-934629f9a22f"
      },
      "source": [
        "encoder_input = tf.keras.Input(shape=(), dtype=tf.int32, name='enc_in')\n",
        "one_hot = tf.one_hot(encoder_input,depth=M)\n",
        "x = tf.keras.layers.Dense(128,activation=\"relu\")(one_hot)\n",
        "x = tf.keras.layers.Dense(128,activation=\"relu\")(x)\n",
        "x = tf.keras.layers.Dense(n,activation=None)(x)\n",
        "encoder_output = x / tf.sqrt(tf.reduce_mean(tf.square(x)))    # batch normalization to limit average signal power to 1.0 (per complex channel use)\n",
        "encoder = tf.keras.Model(encoder_input, encoder_output, name='encoder')\n",
        "encoder.summary()"
      ],
      "execution_count": null,
      "outputs": [
        {
          "output_type": "stream",
          "text": [
            "Model: \"encoder\"\n",
            "__________________________________________________________________________________________________\n",
            "Layer (type)                    Output Shape         Param #     Connected to                     \n",
            "==================================================================================================\n",
            "enc_in (InputLayer)             [(None,)]            0                                            \n",
            "__________________________________________________________________________________________________\n",
            "tf.one_hot (TFOpLambda)         (None, 16)           0           enc_in[0][0]                     \n",
            "__________________________________________________________________________________________________\n",
            "dense_7 (Dense)                 (None, 128)          2176        tf.one_hot[0][0]                 \n",
            "__________________________________________________________________________________________________\n",
            "dense_8 (Dense)                 (None, 128)          16512       dense_7[0][0]                    \n",
            "__________________________________________________________________________________________________\n",
            "dense_9 (Dense)                 (None, 2)            258         dense_8[0][0]                    \n",
            "__________________________________________________________________________________________________\n",
            "tf.math.square (TFOpLambda)     (None, 2)            0           dense_9[0][0]                    \n",
            "__________________________________________________________________________________________________\n",
            "tf.math.reduce_mean (TFOpLambda ()                   0           tf.math.square[0][0]             \n",
            "__________________________________________________________________________________________________\n",
            "tf.math.sqrt (TFOpLambda)       ()                   0           tf.math.reduce_mean[0][0]        \n",
            "__________________________________________________________________________________________________\n",
            "tf.math.truediv (TFOpLambda)    (None, 2)            0           dense_9[0][0]                    \n",
            "                                                                 tf.math.sqrt[0][0]               \n",
            "==================================================================================================\n",
            "Total params: 18,946\n",
            "Trainable params: 18,946\n",
            "Non-trainable params: 0\n",
            "__________________________________________________________________________________________________\n"
          ],
          "name": "stdout"
        }
      ]
    },
    {
      "cell_type": "markdown",
      "metadata": {
        "id": "ilZM-6lEI0DK"
      },
      "source": [
        "#### Test the transmitter \n",
        "Generate signals for a batch of all possible M messages and have a look at the encoded signals"
      ]
    },
    {
      "cell_type": "code",
      "metadata": {
        "colab": {
          "base_uri": "https://localhost:8080/"
        },
        "id": "QIXbN96VI-HE",
        "outputId": "cc7e226f-f86f-44b6-8f3b-7ff9ec9828c3"
      },
      "source": [
        "x = encoder(np.arange(M,dtype=np.int32)).numpy()\n",
        "print(x)\n",
        "print(x.shape)"
      ],
      "execution_count": null,
      "outputs": [
        {
          "output_type": "stream",
          "text": [
            "[[ 1.7032449   0.6526038 ]\n",
            " [-1.1287526   1.1403582 ]\n",
            " [ 0.4509344   0.604247  ]\n",
            " [ 0.82613313  0.9862088 ]\n",
            " [ 0.86013955  0.5299808 ]\n",
            " [-1.6854037   0.73480016]\n",
            " [ 0.23647833  1.1517571 ]\n",
            " [ 0.81928855  0.6732449 ]\n",
            " [ 0.28703198  0.59125024]\n",
            " [-0.6640481  -0.458985  ]\n",
            " [ 0.23966509  1.3413879 ]\n",
            " [ 2.099693    1.637684  ]\n",
            " [ 0.19651043  1.2812063 ]\n",
            " [ 1.7113937   1.3508092 ]\n",
            " [ 0.3395851   0.22359708]\n",
            " [-0.24564452  0.52576125]]\n",
            "(16, 2)\n"
          ],
          "name": "stdout"
        }
      ]
    },
    {
      "cell_type": "markdown",
      "metadata": {
        "id": "vSWCxLYgJYrU"
      },
      "source": [
        "#### Complex-valued constellation diagrams\n",
        "\n",
        "The constellation our AE uses. The constellation is optimized to reduce the performance metric (BER) during training."
      ]
    },
    {
      "cell_type": "code",
      "metadata": {
        "id": "KczldRJ2Jadn"
      },
      "source": [
        "def plot_constellation(maxrange=None, show_labels=False):\n",
        "    '''Generate a plot of the current constellation'''\n",
        "    x = encoder(np.arange(M,dtype=np.int32)).numpy()\n",
        "    x = np.reshape(x,[M,int(n/2),2])\n",
        "    if (maxrange is None):\n",
        "        maxrange = np.max(np.abs(x))\n",
        "    for k in range(int(n/2)):\n",
        "        image = plt.figure(figsize=(6,6))\n",
        "        plt.grid(True)\n",
        "        plt.xlim(-maxrange,maxrange)\n",
        "        plt.ylim(-maxrange,maxrange)\n",
        "        for i in range(M):       \n",
        "            plt.scatter(x[i,k,0],x[i,k,1],c=\"black\",marker='x')\n",
        "            if show_labels:\n",
        "                plt.annotate(str(L[i].numpy()),(x[i,k,0],x[i,k,1]),c=\"gray\",ha='center',xytext=(0, 5),textcoords='offset points')\n",
        "        image.axes[0].set_xticks(np.array([-2,-1,0,1,2]))\n",
        "        image.axes[0].set_yticks(np.array([-2,-1,0,1,2]))\n",
        "        image.suptitle('%d. complex symbol' % (k+1))\n",
        "        plt.xlabel('Re')\n",
        "        plt.ylabel('Im')\n",
        "    return x, image"
      ],
      "execution_count": null,
      "outputs": []
    },
    {
      "cell_type": "markdown",
      "metadata": {
        "id": "4eZt4xS2Jfwy"
      },
      "source": [
        "This is what the AE constellation looks like before training. Based on communication theory, we know that maximizing the Euclidean distance in addition to using Gray code between any two neightbouring constellation points reduces the probability of making an error."
      ]
    },
    {
      "cell_type": "code",
      "metadata": {
        "colab": {
          "base_uri": "https://localhost:8080/"
        },
        "id": "x-HifGzRJlnF",
        "outputId": "dff701db-e49f-4a66-efe7-834ec4f3c786"
      },
      "source": [
        "plot_constellation();"
      ],
      "execution_count": null,
      "outputs": [
        {
          "output_type": "display_data",
          "data": {
            "image/png": "[encoded data removed]",
            "text/plain": [
              "<Figure size 432x432 with 1 Axes>"
            ]
          },
          "metadata": {
            "tags": []
          }
        }
      ]
    },
    {
      "cell_type": "markdown",
      "metadata": {
        "id": "4cI0msINJrAh"
      },
      "source": [
        "#### Bit-Labeling for each AE message\n",
        "Label each of the M messages with a sequence of k bit (groud-truth labels)"
      ]
    },
    {
      "cell_type": "code",
      "metadata": {
        "colab": {
          "base_uri": "https://localhost:8080/"
        },
        "id": "DQ9J9gkfJv_R",
        "outputId": "e9dfff85-be44-466e-cd55-2245788425bd"
      },
      "source": [
        "def get_bit_label_natural(k):\n",
        "    M=2**k\n",
        "    label_natural = np.zeros((M,k))\n",
        "\n",
        "    for j in range(M):\n",
        "        for i in range(k):\n",
        "            label_natural[j,i] = np.binary_repr(j, width = k)[i]\n",
        "    return label_natural\n",
        "\n",
        "L = tf.cast(get_bit_label_natural(k),dtype=tf.int8)\n",
        "print(L.numpy())"
      ],
      "execution_count": null,
      "outputs": [
        {
          "output_type": "stream",
          "text": [
            "[[0 0 0 0]\n",
            " [0 0 0 1]\n",
            " [0 0 1 0]\n",
            " [0 0 1 1]\n",
            " [0 1 0 0]\n",
            " [0 1 0 1]\n",
            " [0 1 1 0]\n",
            " [0 1 1 1]\n",
            " [1 0 0 0]\n",
            " [1 0 0 1]\n",
            " [1 0 1 0]\n",
            " [1 0 1 1]\n",
            " [1 1 0 0]\n",
            " [1 1 0 1]\n",
            " [1 1 1 0]\n",
            " [1 1 1 1]]\n"
          ],
          "name": "stdout"
        }
      ]
    },
    {
      "cell_type": "markdown",
      "metadata": {
        "id": "_lZuBfTpJ0js"
      },
      "source": [
        "#### Initial constellation with labels"
      ]
    },
    {
      "cell_type": "code",
      "metadata": {
        "colab": {
          "base_uri": "https://localhost:8080/"
        },
        "id": "NAWsmn7JKA85",
        "outputId": "ea3bfa03-ce37-454b-a879-83af9a755400"
      },
      "source": [
        "plot_constellation(show_labels=True);"
      ],
      "execution_count": null,
      "outputs": [
        {
          "output_type": "display_data",
          "data": {
            "image/png": "[encoded data removed]",
            "text/plain": [
              "<Figure size 432x432 with 1 Axes>"
            ]
          },
          "metadata": {
            "tags": []
          }
        }
      ]
    },
    {
      "cell_type": "markdown",
      "metadata": {
        "id": "eevBZm_6KEDN"
      },
      "source": [
        "### Channel \n",
        "Use the trained CGAN as a surrogate for the real channel."
      ]
    },
    {
      "cell_type": "code",
      "metadata": {
        "id": "6Ra1zXdkKHal"
      },
      "source": [
        "# def ebnodb_2_noisestd(awgn_ebno_db):\n",
        "#     return  1.0 / tf.sqrt(k/n * 2 * 10**(awgn_ebno_db/10.))  # noise variance per complex-valued component\n",
        "\n",
        "# def awgn_channel(x,awgn_ebno_db):\n",
        "#     noise_std = ebnodb_2_noisestd(awgn_ebno_db)\n",
        "#     return x + tf.random.normal(shape=tf.shape(x)) * tf.cast(noise_std,dtype=tf.float32)"
      ],
      "execution_count": null,
      "outputs": []
    },
    {
      "cell_type": "markdown",
      "metadata": {
        "id": "vzPcv4KjKI7Q"
      },
      "source": [
        "### The Decoder / Receiver"
      ]
    },
    {
      "cell_type": "code",
      "metadata": {
        "colab": {
          "base_uri": "https://localhost:8080/"
        },
        "id": "9qsQNE-uKLFO",
        "outputId": "91eacc4f-7cf7-4166-f041-ad32b967f03d"
      },
      "source": [
        "decoder_input = tf.keras.Input(shape=(n), name='dec_in')\n",
        "x = tf.keras.layers.Dense(128,activation=\"relu\")(decoder_input)\n",
        "x = tf.keras.layers.Dense(128,activation=\"relu\")(x)\n",
        "decoder_output = tf.keras.layers.Dense(k,activation=None)(x)\n",
        "decoder = tf.keras.Model(decoder_input, decoder_output, name='decoder')\n",
        "decoder.summary()"
      ],
      "execution_count": null,
      "outputs": [
        {
          "output_type": "stream",
          "text": [
            "Model: \"decoder\"\n",
            "_________________________________________________________________\n",
            "Layer (type)                 Output Shape              Param #   \n",
            "=================================================================\n",
            "dec_in (InputLayer)          [(None, 2)]               0         \n",
            "_________________________________________________________________\n",
            "dense_10 (Dense)             (None, 128)               384       \n",
            "_________________________________________________________________\n",
            "dense_11 (Dense)             (None, 128)               16512     \n",
            "_________________________________________________________________\n",
            "dense_12 (Dense)             (None, 4)                 516       \n",
            "=================================================================\n",
            "Total params: 17,412\n",
            "Trainable params: 17,412\n",
            "Non-trainable params: 0\n",
            "_________________________________________________________________\n"
          ],
          "name": "stdout"
        }
      ]
    },
    {
      "cell_type": "markdown",
      "metadata": {
        "id": "QfZniQ1EKNEE"
      },
      "source": [
        "### Training\n",
        "**Things to implement/do**\n",
        "*   Training vs Validation Loss/Accuracy Graph\n",
        "*   Early Stopping\n",
        "*   Training with low EbNo vs high EbNo\n",
        "*   Training with long sequences \n"
      ]
    },
    {
      "cell_type": "code",
      "metadata": {
        "id": "6-7q3X3KKT-h"
      },
      "source": [
        "optimizer = tf.keras.optimizers.Adam(learning_rate=0.001)"
      ],
      "execution_count": null,
      "outputs": []
    },
    {
      "cell_type": "code",
      "metadata": {
        "id": "1hO6RAJtKkha"
      },
      "source": [
        "def autoencode(batch_size,awgn_ebno_db):\n",
        "    s = tf.random.uniform(shape=(batch_size,),minval=0,maxval=M,dtype=tf.int32)\n",
        "    u = tf.gather(L,s)\n",
        "    \n",
        "    x = encoder(s)\n",
        "    y = generator(x)\n",
        "    u_l = decoder(y)\n",
        "    \n",
        "    return u,u_l\n",
        "\n",
        "@tf.function\n",
        "def train_step(batch_size,awgn_ebno_db):\n",
        "    \n",
        "    with tf.GradientTape() as tape:\n",
        "        u,u_l = autoencode(batch_size,awgn_ebno_db)\n",
        "        # Loss\n",
        "        loss = tf.losses.binary_crossentropy(y_true=u,y_pred=-u_l,from_logits=True)\n",
        "\n",
        "    trainable_weights = [] + encoder.trainable_variables + decoder.trainable_variables\n",
        "    gradients = tape.gradient(loss, trainable_weights)\n",
        "    # Applying gradients for this batch\n",
        "    optimizer.apply_gradients(zip(gradients, trainable_weights))\n",
        "    \n",
        "    return tf.reduce_mean(loss)\n",
        "\n",
        "@tf.function\n",
        "def test_step(batch_size,awgn_ebno_db):\n",
        "    u,u_l = autoencode(batch_size,awgn_ebno_db)\n",
        "    \n",
        "    # AE Performance metrics\n",
        "    u_hat_hard = tf.cast(tf.less(u_l,0.0),tf.int8)\n",
        "    correct_predictions = tf.equal(u_hat_hard,u)\n",
        "    accuracy = tf.reduce_mean(tf.cast(correct_predictions, tf.float32))\n",
        "    ber_hard = 1.0 - accuracy\n",
        "    \n",
        "    return ber_hard\n",
        "\n",
        "\n"
      ],
      "execution_count": null,
      "outputs": []
    },
    {
      "cell_type": "markdown",
      "metadata": {
        "id": "sT2xx1xKesyV"
      },
      "source": [
        "test_step_2 and autoencode test are need to test the autoencoder trained on the CGAN model agains the real channel"
      ]
    },
    {
      "cell_type": "code",
      "metadata": {
        "id": "eTS51s1DfZyD"
      },
      "source": [
        "def ebnodb_2_noisestd(awgn_ebno_db):\n",
        "    return  1.0 / tf.sqrt(k/n * 2 * 10**(awgn_ebno_db/10.))  # noise variance per complex-valued component\n",
        "\n",
        "def awgn_channel(x,awgn_ebno_db):\n",
        "    noise_std = ebnodb_2_noisestd(awgn_ebno_db)\n",
        "    return x + tf.random.normal(shape=tf.shape(x)) * tf.cast(noise_std,dtype=tf.float32)"
      ],
      "execution_count": null,
      "outputs": []
    },
    {
      "cell_type": "code",
      "metadata": {
        "id": "QsIuCxQTeqy0"
      },
      "source": [
        "    #to test with real channel\n",
        "    def autoencode_test(batch_size,awgn_ebno_db):\n",
        "        s = tf.random.uniform(shape=(batch_size,),minval=0,maxval=M,dtype=tf.int32)\n",
        "        u = tf.gather(L,s)\n",
        "    \n",
        "        x = encoder(s)\n",
        "        y = awgn_channel(x,awgn_ebno_db)\n",
        "        u_l = decoder(y)\n",
        "    \n",
        "        return u,u_l\n",
        "\n",
        "     #used with autoencode_test\n",
        "    def test_step_2(batch_size,awgn_ebno_db):\n",
        "        u,u_l = autoencode_test(batch_size,awgn_ebno_db)\n",
        "    \n",
        "      # AE Performance metrics\n",
        "        u_hat_hard = tf.cast(tf.less(u_l,0.0),tf.int8)\n",
        "        correct_predictions = tf.equal(u_hat_hard,u)\n",
        "        accuracy = tf.reduce_mean(tf.cast(correct_predictions, tf.float32))\n",
        "        ber_hard = 1.0 - accuracy\n",
        "    \n",
        "        return ber_hard "
      ],
      "execution_count": null,
      "outputs": []
    },
    {
      "cell_type": "code",
      "metadata": {
        "id": "I_40VGrBw250"
      },
      "source": [
        "def validation_GAN_loss(batch_size,awgn_ebno_db):\n",
        "    u,u_l = autoencode(batch_size,awgn_ebno_db)\n",
        "    loss = tf.losses.binary_crossentropy(y_true=u,y_pred=-u_l,from_logits=True)\n",
        "    return tf.reduce_mean(loss)\n",
        "\n",
        "def plot_training_validation_loss(loss):\n",
        "    '''Plot the training loss vs validation'''\n",
        "    image = plt.figure(figsize=(10,8))\n",
        "    #this wont give an error if you change the training params but it wont be right anymore\n",
        "    #need to change the epoch upper limit if training params are changed\n",
        "    epoch = np.linspace(0,3.9,np.size(loss,0))\n",
        "    plt.plot(epoch, loss[:,0], '-r', linewidth=2.0)\n",
        "    #plt.plot(epoch, loss[:,1], '-g', linewidth=2.0)\n",
        "    plt.plot(epoch, loss[:,1], '-b', linewidth=2.0)\n",
        "    plt.xlabel('Epoch', fontsize=18)\n",
        "    plt.ylabel('Loss', fontsize=18)\n",
        "    plt.grid(True)\n",
        "    plt.yscale('log')\n",
        "    image.axes[0].set_xticks(np.array([0,1,2,3,4]))\n",
        "    #plt.ylim([1e-5,1])\n",
        "    #plt.legend(['Training',  'Validation Generator','Validation Real Channel']);\n",
        "    plt.legend(['Training','Validation']);#,'Validation Real Channel']);\n",
        "    return "
      ],
      "execution_count": null,
      "outputs": []
    },
    {
      "cell_type": "code",
      "metadata": {
        "id": "PFkabNnGKlLC"
      },
      "source": [
        "def train(training_params, validation_params):  \n",
        "    '''Training and validation loop'''\n",
        "    losses = np.empty([50,2])\n",
        "    for index, params in enumerate(training_params):\n",
        "        batch_size, lr, ebnodb, iterations = params\n",
        "        print('\\nBatch Size: ' + str(batch_size) +\n",
        "              ', Learning Rate: ' + str(lr) +\n",
        "              ', EbNodB: ' + str(ebnodb) +\n",
        "              ', Iterations: ' + str(iterations))\n",
        "\n",
        "        val_size, val_ebnodb, val_steps = validation_params[index]\n",
        "\n",
        "        for i in range(iterations):\n",
        "            optimizer.learning_rate = lr\n",
        "            loss = train_step(tf.constant(batch_size), tf.constant(ebnodb)).numpy()\n",
        "            if (i%val_steps==0):\n",
        "                ber = test_step(val_size,val_ebnodb).numpy()\n",
        "                val_loss = validation_GAN_loss(val_size,val_ebnodb).numpy()\n",
        "                losses[index*10+i//val_steps] = loss, val_loss\n",
        "                print(\"loss: %.3e    BER: %.3e\" % (loss,ber))\n",
        "    return losses\n",
        "\n",
        "def ber_sim(ebnodbs, batch_size, iterations):\n",
        "    '''Monte Carlo simulations of BER for a range of Eb/No\n",
        "       Sometimes we to compute statistics for batch sizes that do not fit into the GPUs memory.\n",
        "       You can average over multiple batches with small size instead.           \n",
        "    '''\n",
        "    BER = np.zeros_like(ebnodbs)\n",
        "    for i in range(iterations):\n",
        "        #ber = np.array([test_step(tf.constant(batch_size), tf.constant(ebnodb)).numpy() for ebnodb in ebnodbs])\n",
        "        ber = np.array([test_step_2(tf.constant(batch_size), tf.constant(ebnodb)).numpy() for ebnodb in ebnodbs])\n",
        "\n",
        "        BER = BER + ber/iterations\n",
        "    return BER\n",
        "\n",
        "def plot_ber(EbNodB, BER):\n",
        "    '''Plot a BER vs SNR curve'''\n",
        "    image = plt.figure(figsize=(10,8))\n",
        "    plt.plot(EbNodB, BER, '-r', linewidth=2.0)\n",
        "    plt.yscale('log')\n",
        "    plt.xlabel('EbNo (dB)', fontsize=18)\n",
        "    plt.ylabel('Bit-error rate', fontsize=18)\n",
        "    plt.grid(True)\n",
        "    plt.ylim([1e-5,1])\n",
        "    return image"
      ],
      "execution_count": null,
      "outputs": []
    },
    {
      "cell_type": "markdown",
      "metadata": {
        "id": "KcJLUPZ4KneP"
      },
      "source": [
        "#### Training parameters\n",
        "\n",
        "Here we define the SNR during training. The autoencoder will then be trained to find an optimal constellation for this specific training SNR.\n",
        "Mind that this constellation might not be the optimal constellation for the total SNR range, also the receiver is only trained to demap at training SNR."
      ]
    },
    {
      "cell_type": "code",
      "metadata": {
        "id": "9bvOaIytKrsJ"
      },
      "source": [
        "train_EbNodB = 15.0\n",
        "val_EbNodB = train_EbNodB\n",
        "\n",
        "training_params = [\n",
        "    #batch_size, lr, ebnodb, iterations\n",
        "    [100    , 0.001, train_EbNodB, 1000],\n",
        "    [1000    , 0.0001, train_EbNodB, 1000],\n",
        "    [10000    , 0.0001, train_EbNodB, 1000],\n",
        "    [100000    , 0.0001, train_EbNodB, 1000]\n",
        "]\n",
        "\n",
        "validation_params = [\n",
        "    #batch_size, ebnodb, val_steps \n",
        "    [100, val_EbNodB, 100],\n",
        "    [1000 , val_EbNodB, 100],\n",
        "    [10000 , val_EbNodB, 100],\n",
        "    [100000, val_EbNodB, 100]\n",
        "]\n"
      ],
      "execution_count": null,
      "outputs": []
    },
    {
      "cell_type": "markdown",
      "metadata": {
        "id": "K34t-YjuKt5_"
      },
      "source": [
        "#### Train"
      ]
    },
    {
      "cell_type": "code",
      "metadata": {
        "colab": {
          "background_save": true,
          "base_uri": "https://localhost:8080/"
        },
        "id": "OAvkEtKx9Qew",
        "outputId": "03ac986b-f940-40a5-f4fa-a5373ee89283"
      },
      "source": [
        "losses = train(training_params,validation_params)"
      ],
      "execution_count": null,
      "outputs": [
        {
          "output_type": "stream",
          "text": [
            "\n",
            "Batch Size: 100, Learning Rate: 0.001, EbNodB: 15.0, Iterations: 1000\n",
            "loss: 7.009e-01    BER: 4.975e-01\n",
            "loss: 1.925e-01    BER: 3.750e-02\n",
            "loss: 2.643e-02    BER: 0.000e+00\n",
            "loss: 8.685e-03    BER: 0.000e+00\n",
            "loss: 3.312e-03    BER: 0.000e+00\n",
            "loss: 2.180e-03    BER: 0.000e+00\n",
            "loss: 1.291e-03    BER: 0.000e+00\n",
            "loss: 1.138e-03    BER: 0.000e+00\n",
            "loss: 8.989e-04    BER: 0.000e+00\n",
            "loss: 6.138e-04    BER: 0.000e+00\n",
            "\n",
            "Batch Size: 1000, Learning Rate: 0.0001, EbNodB: 15.0, Iterations: 1000\n",
            "loss: 4.580e-04    BER: 0.000e+00\n",
            "loss: 3.483e-04    BER: 0.000e+00\n",
            "loss: 2.783e-04    BER: 0.000e+00\n",
            "loss: 2.726e-04    BER: 0.000e+00\n",
            "loss: 2.669e-04    BER: 0.000e+00\n",
            "loss: 2.236e-04    BER: 0.000e+00\n",
            "loss: 1.549e-04    BER: 0.000e+00\n",
            "loss: 1.603e-04    BER: 0.000e+00\n",
            "loss: 1.404e-04    BER: 0.000e+00\n",
            "loss: 1.289e-04    BER: 0.000e+00\n",
            "\n",
            "Batch Size: 10000, Learning Rate: 0.0001, EbNodB: 15.0, Iterations: 1000\n",
            "loss: 1.025e-04    BER: 0.000e+00\n",
            "loss: 4.907e-05    BER: 0.000e+00\n",
            "loss: 2.918e-05    BER: 0.000e+00\n",
            "loss: 2.030e-05    BER: 0.000e+00\n",
            "loss: 1.539e-05    BER: 0.000e+00\n",
            "loss: 1.335e-05    BER: 0.000e+00\n",
            "loss: 1.013e-05    BER: 0.000e+00\n",
            "loss: 8.205e-06    BER: 0.000e+00\n",
            "loss: 7.606e-06    BER: 0.000e+00\n",
            "loss: 6.924e-06    BER: 0.000e+00\n",
            "\n",
            "Batch Size: 100000, Learning Rate: 0.0001, EbNodB: 15.0, Iterations: 1000\n",
            "loss: 5.590e-06    BER: 0.000e+00\n",
            "loss: 2.251e-06    BER: 0.000e+00\n",
            "loss: 1.343e-06    BER: 0.000e+00\n",
            "loss: 9.671e-07    BER: 0.000e+00\n",
            "loss: 7.138e-07    BER: 0.000e+00\n",
            "loss: 5.665e-07    BER: 0.000e+00\n",
            "loss: 4.664e-07    BER: 0.000e+00\n",
            "loss: 4.035e-07    BER: 0.000e+00\n",
            "loss: 3.552e-07    BER: 0.000e+00\n",
            "loss: 2.911e-07    BER: 0.000e+00\n"
          ],
          "name": "stdout"
        }
      ]
    },
    {
      "cell_type": "code",
      "metadata": {
        "colab": {
          "background_save": true
        },
        "id": "FrgTxDX8xOwG",
        "outputId": "dee0e562-58e4-47ea-d06b-b986bcc08b56"
      },
      "source": [
        "plot_training_validation_loss(losses)"
      ],
      "execution_count": null,
      "outputs": [
        {
          "output_type": "display_data",
          "data": {
            "image/png": "[encoded data removed]",
            "text/plain": [
              "<Figure size 720x576 with 1 Axes>"
            ]
          },
          "metadata": {
            "tags": []
          }
        }
      ]
    },
    {
      "cell_type": "markdown",
      "metadata": {
        "id": "bOBgyMd6K00U"
      },
      "source": [
        "### Evaluation\n",
        "\n",
        "The found constellation afte training"
      ]
    },
    {
      "cell_type": "code",
      "metadata": {
        "colab": {
          "background_save": true
        },
        "id": "BmKB9MD8K7d0",
        "outputId": "2b652114-2ee9-43fe-cff6-f986de06e7a3"
      },
      "source": [
        "plot_constellation(show_labels=True);"
      ],
      "execution_count": null,
      "outputs": [
        {
          "output_type": "display_data",
          "data": {
            "image/png": "[encoded data removed]",
            "text/plain": [
              "<Figure size 432x432 with 1 Axes>"
            ]
          },
          "metadata": {
            "tags": []
          }
        }
      ]
    },
    {
      "cell_type": "markdown",
      "metadata": {
        "id": "Wakt19aKLEZw"
      },
      "source": [
        "#### BER perfomance evaluation\n",
        "AE's BER performance vs classical baselines.\n",
        "The baseline results are taken from our webdemo [Physical Layer Performance Measures - Symbol Error Rate, BER and Mutual Information](https://webdemo.inue.uni-stuttgart.de/webdemos/02_lectures/communication_3/performance_measures/)."
      ]
    },
    {
      "cell_type": "code",
      "metadata": {
        "colab": {
          "background_save": true
        },
        "id": "LzQtu9AyLG2D",
        "outputId": "f163999a-d4ce-49a2-f5e7-0ee8ca484ac7"
      },
      "source": [
        "# reference curves\n",
        "ebnodbs_ref = np.linspace(-5,20,26)\n",
        "ber_ref_hard_n2 = np.array([[2.132e-01, 1.861e-01, 1.588e-01, 1.303e-01, 1.037e-01, 7.823e-02, 5.592e-02, 3.737e-02, 2.282e-02, 1.249e-02, 5.959e-03, 2.385e-03, 7.400e-04, 2.050e-04, 3.500e-05, 1.000e-06, 0.000e+00, 0.000e+00, 0.000e+00, 0.000e+00, 0.000e+00, 0.000e+00, 0.000e+00, 0.000e+00, 0.000e+00, 0.000e+00],[2.137e-01, 1.857e-01, 1.581e-01, 1.310e-01, 1.042e-01, 7.860e-02, 5.629e-02, 3.746e-02, 2.302e-02, 1.241e-02, 5.978e-03, 2.387e-03, 7.570e-04, 2.010e-04, 3.600e-05, 5.000e-06, 1.000e-06, 0.000e+00, 0.000e+00, 0.000e+00, 0.000e+00, 0.000e+00, 0.000e+00, 0.000e+00, 0.000e+00, 0.000e+00],[2.713e-01, 2.474e-01, 2.231e-01, 1.966e-01, 1.697e-01, 1.426e-01, 1.152e-01, 8.909e-02, 6.482e-02, 4.411e-02, 2.738e-02, 1.539e-02, 7.492e-03, 3.011e-03, 1.000e-03, 2.537e-04, 4.100e-05, 2.667e-06, 1.000e-06, 0.000e+00, 0.000e+00, 0.000e+00, 0.000e+00, 0.000e+00, 0.000e+00, 0.000e+00],[2.618e-01, 2.367e-01, 2.116e-01, 1.872e-01, 1.636e-01, 1.411e-01, 1.187e-01, 9.781e-02, 7.725e-02, 5.876e-02, 4.186e-02, 2.795e-02, 1.704e-02, 9.262e-03, 4.407e-03, 1.768e-03, 5.617e-04, 1.443e-04, 2.025e-05, 3.000e-06, 5.000e-07, 0.000e+00, 0.000e+00, 0.000e+00, 0.000e+00, 0.000e+00]])\n",
        "ber_ref_soft_n2 = np.array([[2.132e-01, 1.861e-01, 1.588e-01, 1.303e-01, 1.037e-01, 7.823e-02, 5.592e-02, 3.737e-02, 2.282e-02, 1.249e-02, 5.959e-03, 2.385e-03, 7.400e-04, 2.050e-04, 3.500e-05, 1.000e-06, 0.000e+00, 0.000e+00, 0.000e+00, 0.000e+00, 0.000e+00, 0.000e+00, 0.000e+00, 0.000e+00, 0.000e+00, 0.000e+00],[2.137e-01, 1.858e-01, 1.582e-01, 1.309e-01, 1.043e-01, 7.858e-02, 5.627e-02, 3.746e-02, 2.301e-02, 1.241e-02, 5.978e-03, 2.387e-03, 7.570e-04, 2.010e-04, 3.600e-05, 5.000e-06, 1.000e-06, 0.000e+00, 0.000e+00, 0.000e+00, 0.000e+00, 0.000e+00, 0.000e+00, 0.000e+00, 0.000e+00, 0.000e+00],[2.655e-01, 2.423e-01, 2.188e-01, 1.932e-01, 1.674e-01, 1.410e-01, 1.143e-01, 8.866e-02, 6.462e-02, 4.401e-02, 2.734e-02, 1.537e-02, 7.492e-03, 3.011e-03, 9.997e-04, 2.537e-04, 4.100e-05, 2.667e-06, 1.000e-06, 0.000e+00, 0.000e+00, 0.000e+00, 0.000e+00, 0.000e+00, 0.000e+00, 0.000e+00],[2.600e-01, 2.356e-01, 2.110e-01, 1.869e-01, 1.635e-01, 1.410e-01, 1.187e-01, 9.781e-02, 7.725e-02, 5.876e-02, 4.186e-02, 2.795e-02, 1.704e-02, 9.262e-03, 4.407e-03, 1.768e-03, 5.617e-04, 1.443e-04, 2.025e-05, 3.000e-06, 5.000e-07, 0.000e+00, 0.000e+00, 0.000e+00, 0.000e+00, 0.000e+00]])\n",
        "#ber_ref_theory_n2 = np.array([[2.132e-01, 1.861e-01, 1.584e-01, 1.306e-01, 1.038e-01, 7.865e-02, 5.628e-02, 3.751e-02, 2.288e-02, 1.250e-02, 5.954e-03, 2.388e-03, 7.727e-04, 1.909e-04, 3.363e-05, 3.872e-06, 2.613e-07, 9.006e-09, 1.333e-10, 6.810e-13, 9.124e-16, 2.267e-19, 6.759e-24, 1.396e-29, 1.001e-36, 1.044e-45],[2.132e-01, 1.861e-01, 1.584e-01, 1.306e-01, 1.038e-01, 7.865e-02, 5.628e-02, 3.751e-02, 2.288e-02, 1.250e-02, 5.954e-03, 2.388e-03, 7.727e-04, 1.909e-04, 3.363e-05, 3.872e-06, 2.613e-07, 9.006e-09, 1.333e-10, 6.810e-13, 9.124e-16, 2.267e-19, 6.759e-24, 1.396e-29, 1.001e-36, 1.044e-45],[3.491e-01, 3.162e-01, 2.814e-01, 2.452e-01, 2.081e-01, 1.712e-01, 1.355e-01, 1.023e-01, 7.282e-02, 4.821e-02, 2.917e-02, 1.578e-02, 7.423e-03, 2.931e-03, 9.298e-04, 2.241e-04, 3.827e-05, 4.239e-06, 2.724e-07, 8.827e-09, 1.209e-10, 5.603e-13, 6.640e-16, 1.414e-19, 3.470e-24, 5.611e-30],[3.075e-01, 2.863e-01, 2.633e-01, 2.387e-01, 2.127e-01, 1.855e-01, 1.578e-01, 1.301e-01, 1.032e-01, 7.816e-02, 5.586e-02, 3.716e-02, 2.262e-02, 1.233e-02, 5.854e-03, 2.339e-03, 7.529e-04, 1.849e-04, 3.231e-05, 3.684e-06, 2.456e-07, 8.334e-09, 1.210e-10, 6.030e-13, 7.832e-16, 1.872e-19]])\n",
        "\n",
        "# autoencoder simulations\n",
        "ebnodbs = np.linspace(-5,20,26)\n",
        "bers = ber_sim(ebnodbs, 100000, 10);\n",
        "plot_ber(ebnodbs, bers);\n",
        "\n",
        "plt.plot(ebnodbs_ref,ber_ref_hard_n2[k-1]);\n",
        "plt.plot(ebnodbs_ref,ber_ref_soft_n2[k-1],\"--\");\n",
        "#plt.plot(ebnodbs_ref,ber_ref_theory_n2[k-1],\"--\");\n",
        "\n",
        "plt.legend(['Autoencoder', '%d-QAM hard' % M,'%d-QAM soft' % M, 'closed-form approx.'], prop={'size': 16}, loc='upper right');"
      ],
      "execution_count": null,
      "outputs": [
        {
          "output_type": "display_data",
          "data": {
            "image/png": "[encoded data removed]",
            "text/plain": [
              "<Figure size 720x576 with 1 Axes>"
            ]
          },
          "metadata": {
            "tags": []
          }
        }
      ]
    },
    {
      "cell_type": "markdown",
      "metadata": {
        "id": "irbewO1XLObU"
      },
      "source": [
        "### Things to improve upon\n",
        "Training vs Validation Loss Graph\n",
        "It is a standard practice to show training vs validation loss/accuracy graph to illustrate whether the learning-based model generalizes well or if it overfits/underfit. We will implement this and put it in our report\n",
        "\n",
        "Illustrate that when trained with low EbNos, the model has diffculty learning the optimal constellation that generalizes well across a wide range of EbNos. We can interpret this as using inaccurate ground-truth labels in a supervised learning task, and the model is unable to learn the general relationship between the input and output."
      ]
    }
  ]
}